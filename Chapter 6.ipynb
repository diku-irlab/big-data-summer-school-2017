{
 "cells": [
  {
   "cell_type": "markdown",
   "metadata": {
    "collapsed": true
   },
   "source": [
    "# Chapter 6 - Elman Neural Networks  \n",
    "pg. 83-94"
   ]
  },
  {
   "cell_type": "markdown",
   "metadata": {
    "collapsed": true
   },
   "source": [
    "## Prepare Your Data for Easy Use"
   ]
  },
  {
   "cell_type": "code",
   "execution_count": 52,
   "metadata": {
    "collapsed": true
   },
   "outputs": [],
   "source": [
    "import numpy as np\n",
    "import pandas as pd\n",
    "\n",
    "loc = \"/home/dpindk/irlab/big-data-summer-school-2017/COE.csv\"\n",
    "temp = pd.read_csv(loc)\n",
    "data = temp.drop(temp.columns [[0,1]], axis=1)\n",
    "\n",
    "y = data[\"COE$\"]\n",
    "\n",
    "x = data.drop(data.columns[[0,4]], axis=1)\n",
    "x = x.apply(np.log)\n",
    "x = pd.concat([x, data[\"Open?\"]], axis=1)"
   ]
  },
  {
   "cell_type": "markdown",
   "metadata": {},
   "source": [
    "## Scaling to [0,1] Range"
   ]
  },
  {
   "cell_type": "code",
   "execution_count": 53,
   "metadata": {
    "collapsed": true
   },
   "outputs": [],
   "source": [
    "from sklearn import preprocessing\n",
    "\n",
    "scaler_x = preprocessing.MinMaxScaler(feature_range=(0,1))\n",
    "x = np.array(x).reshape((len(x), 4))\n",
    "x = scaler_x.fit_transform(x)\n",
    "\n",
    "scaler_y = preprocessing.MinMaxScaler(feature_range=(0,1))\n",
    "y = np.array(y).reshape((len(y), 1))\n",
    "y = np.log(y)\n",
    "y = scaler_y.fit_transform(y)"
   ]
  },
  {
   "cell_type": "code",
   "execution_count": 54,
   "metadata": {
    "collapsed": true
   },
   "outputs": [],
   "source": [
    "# pyneurgen module requires lists\n",
    "y = y.tolist()\n",
    "x = x.tolist()"
   ]
  },
  {
   "cell_type": "markdown",
   "metadata": {},
   "source": [
    "## Use this Python Library for Rapid Results"
   ]
  },
  {
   "cell_type": "code",
   "execution_count": 55,
   "metadata": {
    "collapsed": true
   },
   "outputs": [],
   "source": [
    "from pyneurgen.neuralnet import NeuralNet\n",
    "from pyneurgen.recurrent import ElmanSimpleRecurrent"
   ]
  },
  {
   "cell_type": "code",
   "execution_count": 56,
   "metadata": {
    "collapsed": false
   },
   "outputs": [],
   "source": [
    "import random\n",
    "random.seed(2016)\n",
    "fit1 = NeuralNet()\n",
    "input_nodes = 4\n",
    "hidden_nodes = 7\n",
    "output_nodes = 1\n",
    "fit1.init_layers(input_nodes, [hidden_nodes], output_nodes, ElmanSimpleRecurrent())\n",
    "fit1.randomize_network()\n",
    "fit1.layers[1].set_activation_type(\"sigmoid\")\n",
    "fit1.set_learnrate(0.05)\n",
    "fit1.set_all_inputs(x)\n",
    "fit1.set_all_targets(y)"
   ]
  },
  {
   "cell_type": "markdown",
   "metadata": {
    "collapsed": true
   },
   "source": [
    "## A Super Simple Way to Fit the Model"
   ]
  },
  {
   "cell_type": "code",
   "execution_count": 57,
   "metadata": {
    "collapsed": true
   },
   "outputs": [],
   "source": [
    "length = len(x)\n",
    "learn_end_point = int(length * 0.95)\n",
    "fit1.set_learn_range(0, learn_end_point)\n",
    "fit1.set_test_range(learn_end_point + 1, length - 1)"
   ]
  },
  {
   "cell_type": "markdown",
   "metadata": {},
   "source": [
    "## The `learn` Function"
   ]
  },
  {
   "cell_type": "code",
   "execution_count": 58,
   "metadata": {
    "collapsed": false
   },
   "outputs": [
    {
     "name": "stdout",
     "output_type": "stream",
     "text": [
      "epoch: 0 MSE: 0.00573194277476\n",
      "epoch: 1 MSE: 0.00197294353497\n",
      "epoch: 2 MSE: 0.00190746802167\n",
      "epoch: 3 MSE: 0.00184641750107\n",
      "epoch: 4 MSE: 0.00178925912178\n",
      "epoch: 5 MSE: 0.00173554922549\n",
      "epoch: 6 MSE: 0.00168491665439\n",
      "epoch: 7 MSE: 0.00163704950601\n",
      "epoch: 8 MSE: 0.00159168453504\n",
      "epoch: 9 MSE: 0.00154859860756\n",
      "epoch: 10 MSE: 0.00150760176151\n",
      "epoch: 11 MSE: 0.00146853153596\n",
      "epoch: 12 MSE: 0.00143124831164\n",
      "epoch: 13 MSE: 0.00139563146424\n",
      "epoch: 14 MSE: 0.00136157617646\n",
      "epoch: 15 MSE: 0.00132899078809\n",
      "epoch: 16 MSE: 0.00129779458866\n",
      "epoch: 17 MSE: 0.00126791597635\n",
      "epoch: 18 MSE: 0.00123929092208\n",
      "epoch: 19 MSE: 0.00121186168867\n",
      "epoch: 20 MSE: 0.00118557576435\n",
      "epoch: 21 MSE: 0.00116038497679\n",
      "epoch: 22 MSE: 0.00113624475939\n",
      "epoch: 23 MSE: 0.00111311354629\n",
      "epoch: 24 MSE: 0.00109095227597\n",
      "epoch: 25 MSE: 0.00106972398652\n",
      "epoch: 26 MSE: 0.00104939348795\n",
      "epoch: 27 MSE: 0.0010299270993\n",
      "epoch: 28 MSE: 0.00101129243971\n",
      "epoch: 29 MSE: 0.000993458264383\n",
      "epoch: 30 MSE: 0.000976394337621\n",
      "epoch: 31 MSE: 0.000960071336103\n",
      "epoch: 32 MSE: 0.000944460776773\n",
      "epoch: 33 MSE: 0.00092953496436\n",
      "epoch: 34 MSE: 0.000915266954412\n",
      "epoch: 35 MSE: 0.000901630528351\n",
      "epoch: 36 MSE: 0.000888600177606\n",
      "epoch: 37 MSE: 0.000876151094402\n",
      "epoch: 38 MSE: 0.000864259167214\n",
      "epoch: 39 MSE: 0.000852900979251\n",
      "epoch: 40 MSE: 0.000842053808674\n",
      "epoch: 41 MSE: 0.000831695629522\n",
      "epoch: 42 MSE: 0.000821805112556\n",
      "epoch: 43 MSE: 0.000812361625424\n",
      "epoch: 44 MSE: 0.000803345231724\n",
      "epoch: 45 MSE: 0.000794736688671\n",
      "epoch: 46 MSE: 0.000786517443193\n",
      "epoch: 47 MSE: 0.000778669626363\n",
      "epoch: 48 MSE: 0.000771176046153\n",
      "epoch: 49 MSE: 0.000764020178555\n",
      "epoch: 50 MSE: 0.000757186157135\n",
      "epoch: 51 MSE: 0.000750658761151\n",
      "epoch: 52 MSE: 0.000744423402355\n",
      "epoch: 53 MSE: 0.000738466110625\n",
      "epoch: 54 MSE: 0.000732773518592\n",
      "epoch: 55 MSE: 0.000727332845402\n",
      "epoch: 56 MSE: 0.000722131879776\n",
      "epoch: 57 MSE: 0.000717158962514\n",
      "epoch: 58 MSE: 0.000712402968578\n",
      "epoch: 59 MSE: 0.000707853288889\n",
      "epoch: 60 MSE: 0.000703499811967\n",
      "epoch: 61 MSE: 0.000699332905503\n",
      "epoch: 62 MSE: 0.000695343397984\n",
      "epoch: 63 MSE: 0.000691522560453\n",
      "epoch: 64 MSE: 0.000687862088471\n",
      "epoch: 65 MSE: 0.000684354084368\n",
      "epoch: 66 MSE: 0.000680991039822\n",
      "epoch: 67 MSE: 0.00067776581883\n",
      "epoch: 68 MSE: 0.000674671641099\n",
      "epoch: 69 MSE: 0.000671702065902\n",
      "epoch: 70 MSE: 0.000668850976411\n",
      "epoch: 71 MSE: 0.000666112564544\n",
      "epoch: 72 MSE: 0.00066348131632\n",
      "epoch: 73 MSE: 0.000660951997747\n",
      "epoch: 74 MSE: 0.000658519641237\n",
      "epoch: 75 MSE: 0.000656179532559\n",
      "epoch: 76 MSE: 0.000653927198311\n",
      "epoch: 77 MSE: 0.000651758393926\n",
      "epoch: 78 MSE: 0.000649669092188\n",
      "epoch: 79 MSE: 0.000647655472253\n",
      "epoch: 80 MSE: 0.000645713909168\n",
      "epoch: 81 MSE: 0.000643840963866\n",
      "epoch: 82 MSE: 0.000642033373633\n",
      "epoch: 83 MSE: 0.000640288043025\n",
      "epoch: 84 MSE: 0.000638602035219\n",
      "epoch: 85 MSE: 0.000636972563796\n",
      "epoch: 86 MSE: 0.000635396984915\n",
      "epoch: 87 MSE: 0.000633872789886\n",
      "epoch: 88 MSE: 0.000632397598117\n",
      "epoch: 89 MSE: 0.000630969150412\n",
      "epoch: 90 MSE: 0.000629585302614\n",
      "epoch: 91 MSE: 0.00062824401958\n",
      "epoch: 92 MSE: 0.000626943369458\n",
      "epoch: 93 MSE: 0.000625681518271\n",
      "epoch: 94 MSE: 0.000624456724772\n",
      "epoch: 95 MSE: 0.000623267335585\n",
      "epoch: 96 MSE: 0.000622111780582\n",
      "epoch: 97 MSE: 0.000620988568522\n",
      "epoch: 98 MSE: 0.00061989628291\n",
      "epoch: 99 MSE: 0.000618833578077\n"
     ]
    }
   ],
   "source": [
    "fit1.learn(epochs=100, show_epoch_results=True, random_testing=False)"
   ]
  },
  {
   "cell_type": "markdown",
   "metadata": {},
   "source": [
    "## Test Set MSE"
   ]
  },
  {
   "cell_type": "code",
   "execution_count": 59,
   "metadata": {
    "collapsed": false
   },
   "outputs": [
    {
     "name": "stdout",
     "output_type": "stream",
     "text": [
      "test set  MSE =  0.000118\n"
     ]
    }
   ],
   "source": [
    "mse = fit1.test()\n",
    "print \"test set  MSE = \", np.round(mse, 6)"
   ]
  },
  {
   "cell_type": "code",
   "execution_count": 60,
   "metadata": {
    "collapsed": true
   },
   "outputs": [],
   "source": [
    "pred = [item[1][0] for item in fit1.test_targets_activations]\n",
    "pred1 = scaler_y.inverse_transform(np.array(pred).reshape((len(pred), 1)))\n",
    "pred1 = np.exp(pred1)"
   ]
  },
  {
   "cell_type": "code",
   "execution_count": 61,
   "metadata": {
    "collapsed": false
   },
   "outputs": [
    {
     "data": {
      "text/plain": [
       "array([[ 11417.68582666],\n",
       "       [ 11349.47816217],\n",
       "       [ 11603.83950837],\n",
       "       [ 13018.23591198],\n",
       "       [ 13672.63946973],\n",
       "       [ 14767.88359248],\n",
       "       [ 13942.49440269],\n",
       "       [ 12515.84962128],\n",
       "       [ 12251.28644488],\n",
       "       [ 13380.79744629],\n",
       "       [ 13733.88003737],\n",
       "       [ 13614.31119816]])"
      ]
     },
     "execution_count": 61,
     "metadata": {},
     "output_type": "execute_result"
    }
   ],
   "source": [
    "pred1"
   ]
  },
  {
   "cell_type": "markdown",
   "metadata": {},
   "source": [
    "## Plotting the Results"
   ]
  },
  {
   "cell_type": "code",
   "execution_count": 62,
   "metadata": {
    "collapsed": false
   },
   "outputs": [],
   "source": [
    "obs = [item[0][0] for item in fit1.test_targets_activations]\n",
    "obs = scaler_y.inverse_transform(np.array(obs).reshape((len(obs), 1)))\n",
    "obs = np.exp(obs)\n",
    "obs_max = obs + 1500\n",
    "obs_min = obs - 1500"
   ]
  },
  {
   "cell_type": "code",
   "execution_count": 63,
   "metadata": {
    "collapsed": false,
    "scrolled": true
   },
   "outputs": [
    {
     "data": {
      "image/png": "[encoded data removed]",
      "text/plain": [
       "<matplotlib.figure.Figure at 0x7fa499e7f8d0>"
      ]
     },
     "metadata": {},
     "output_type": "display_data"
    }
   ],
   "source": [
    "import matplotlib\n",
    "import matplotlib.pyplot as plt\n",
    "matplotlib.style.use('ggplot')\n",
    "\n",
    "%matplotlib inline\n",
    "plt.rcParams['figure.figsize'] = (8,6)\n",
    "\n",
    "plt.plot(range(len(pred1)), pred1, \"-\", label=\"predicted\", color=\"red\")\n",
    "plt.plot(range(len(obs)), obs, \"-\", label=\"observed\", color=\"black\")\n",
    "\n",
    "plt.plot(range(len(obs)), obs_min, \"--\", label=\"tolerance\", color=\"black\")\n",
    "plt.plot(range(len(obs)), obs_max, \"--\", color=\"black\")\n",
    "\n",
    "plt.title(\"Figure 6.7\")\n",
    "plt.xlabel(\"Prediction Period\")\n",
    "plt.ylabel(\"Singaporean dollars (SGD)\")\n",
    "plt.legend()\n",
    "plt.show()"
   ]
  }
 ],
 "metadata": {
  "kernelspec": {
   "display_name": "Python 2",
   "language": "python",
   "name": "python2"
  },
  "language_info": {
   "codemirror_mode": {
    "name": "ipython",
    "version": 2
   },
   "file_extension": ".py",
   "mimetype": "text/x-python",
   "name": "python",
   "nbconvert_exporter": "python",
   "pygments_lexer": "ipython2",
   "version": "2.7.13"
  }
 },
 "nbformat": 4,
 "nbformat_minor": 0
}
