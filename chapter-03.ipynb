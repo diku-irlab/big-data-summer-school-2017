{
 "cells": [
  {
   "cell_type": "markdown",
   "metadata": {},
   "source": [
    "# CHAPTER 3 - Deep Neural Networks for Time Series Forecasting the Easy Way\n",
    "\n",
    "_pg. 31-50_\n",
    "  \n",
    "   \n",
    "   \n",
    "# PART 1 - Prepare the Data\n",
    "_pg. 32-36_\n",
    "\n",
    "## Getting the data from the internet  \n",
    "This example uses data from the internet, which we need to download and clean first"
   ]
  },
  {
   "cell_type": "code",
   "execution_count": null,
   "metadata": {},
   "outputs": [],
   "source": [
    "import numpy as np\n",
    "import pandas as pd\n",
    "import urllib"
   ]
  },
  {
   "cell_type": "code",
   "execution_count": null,
   "metadata": {},
   "outputs": [],
   "source": [
    "# See p. 32\n",
    "url = \"http://ww2.amstat.org/publications/jse/datasets/COE.xls\"\n",
    "\n",
    "# !!! You need to update this location\n",
    "loc = \"/home/ubuntu/CSU/Notebooks/csu-2017/COE.xls\"\n",
    "urllib.urlretrieve(url, loc)"
   ]
  },
  {
   "cell_type": "markdown",
   "metadata": {},
   "source": [
    "## Cleaning Up Downloaded Spreadsheet Files"
   ]
  },
  {
   "cell_type": "code",
   "execution_count": null,
   "metadata": {},
   "outputs": [],
   "source": [
    "Excel_file = pd.ExcelFile(loc)"
   ]
  },
  {
   "cell_type": "markdown",
   "metadata": {},
   "source": [
    "## Worksheet Names"
   ]
  },
  {
   "cell_type": "code",
   "execution_count": null,
   "metadata": {},
   "outputs": [],
   "source": [
    "print Excel_file.sheet_names"
   ]
  },
  {
   "cell_type": "code",
   "execution_count": null,
   "metadata": {},
   "outputs": [],
   "source": [
    "spreadsheet = Excel_file.parse('COE data')\n",
    "print spreadsheet.info()"
   ]
  },
  {
   "cell_type": "code",
   "execution_count": null,
   "metadata": {},
   "outputs": [],
   "source": [
    "data = spreadsheet['COE$']"
   ]
  },
  {
   "cell_type": "markdown",
   "metadata": {},
   "source": [
    "## View `data` Values"
   ]
  },
  {
   "cell_type": "code",
   "execution_count": null,
   "metadata": {},
   "outputs": [],
   "source": [
    "print data.head()"
   ]
  },
  {
   "cell_type": "markdown",
   "metadata": {},
   "source": [
    "## Adjusting Data\n",
    "\n",
    "There are some errors in the data below, can you find them?"
   ]
  },
  {
   "cell_type": "code",
   "execution_count": null,
   "metadata": {},
   "outputs": [],
   "source": [
    "print spreadsheet['DATE'][193:204]"
   ]
  },
  {
   "cell_type": "markdown",
   "metadata": {},
   "source": [
    "Use the following to fix the year errors..."
   ]
  },
  {
   "cell_type": "code",
   "execution_count": null,
   "metadata": {},
   "outputs": [],
   "source": [
    "spreadsheet.set_value(194, 'DATE', '2004-02-15')\n",
    "spreadsheet.set_value(198, 'DATE', '2004-04-15')\n",
    "spreadsheet.set_value(202, 'DATE', '2004-06-15')\n",
    "print spreadsheet['DATE'][193:204]"
   ]
  },
  {
   "cell_type": "markdown",
   "metadata": {},
   "source": [
    "## Saving the Data\n",
    "\n",
    "As shown in the book, we can save the data for later use with the following code as a comma separated values `.csv` file."
   ]
  },
  {
   "cell_type": "code",
   "execution_count": null,
   "metadata": {},
   "outputs": [],
   "source": [
    "# !!! You need to update this location\n",
    "loc = \"/home/ubuntu/CSU/Notebooks/csu-2017/COE.csv\"\n",
    "spreadsheet.to_csv(loc)"
   ]
  },
  {
   "cell_type": "markdown",
   "metadata": {},
   "source": [
    "## Vizualizing the Data\n",
    "\n",
    "Let's recreate Figure 3.1 from page 32.\n",
    "\n",
    "This will give us a better intuition of the observed data, and then later we will have something to compare with our predictions."
   ]
  },
  {
   "cell_type": "code",
   "execution_count": null,
   "metadata": {},
   "outputs": [],
   "source": [
    "%matplotlib inline\n",
    "import matplotlib\n",
    "import matplotlib.pyplot as plt\n",
    "matplotlib.style.use('ggplot')\n",
    "plt.rcParams['figure.figsize'] = (8,6)\n",
    "\n",
    "# Observed data\n",
    "time = spreadsheet['DATE'].tolist()\n",
    "price = data.tolist()\n",
    "\n",
    "plt.plot(time, price, \"-\", label=\"COE Price\", color=\"darkblue\", linewidth='0.5')\n",
    "plt.title(\"Figure 3.1: Certificate of Entitlement Price\")\n",
    "plt.xlabel(\"Date\")\n",
    "plt.ylabel(\"Singaporean dollars\")\n",
    "plt.legend()\n",
    "plt.show()"
   ]
  },
  {
   "cell_type": "markdown",
   "metadata": {
    "collapsed": true
   },
   "source": [
    "# PART 2\n",
    "_pg. 39-42_\n",
    "## How to Scale the Input Attributes"
   ]
  },
  {
   "cell_type": "code",
   "execution_count": null,
   "metadata": {
    "collapsed": true
   },
   "outputs": [],
   "source": [
    "from sklearn import preprocessing\n",
    "x = data\n",
    "scaler = preprocessing.MinMaxScaler(feature_range=(0,1))"
   ]
  },
  {
   "cell_type": "code",
   "execution_count": null,
   "metadata": {},
   "outputs": [],
   "source": [
    "print scaler"
   ]
  },
  {
   "cell_type": "code",
   "execution_count": null,
   "metadata": {},
   "outputs": [],
   "source": [
    "print type(x)"
   ]
  },
  {
   "cell_type": "code",
   "execution_count": null,
   "metadata": {},
   "outputs": [],
   "source": [
    "x = np.array(x).reshape(-1,1)\n",
    "# NUMPY\n",
    "# Why did we use -1 here?"
   ]
  },
  {
   "cell_type": "code",
   "execution_count": null,
   "metadata": {},
   "outputs": [],
   "source": [
    "print type(x)"
   ]
  },
  {
   "cell_type": "markdown",
   "metadata": {},
   "source": [
    "## Log Transform\n",
    "\n",
    "Here the author is transforming the data because as he says \"it helps\" with this specific set of data, __however__ this is __NOT__ a generally applicable statement."
   ]
  },
  {
   "cell_type": "code",
   "execution_count": null,
   "metadata": {},
   "outputs": [],
   "source": [
    "x = np.log(x)\n",
    "x[0:5]"
   ]
  },
  {
   "cell_type": "markdown",
   "metadata": {},
   "source": [
    "## Scale `x`"
   ]
  },
  {
   "cell_type": "code",
   "execution_count": null,
   "metadata": {
    "collapsed": true
   },
   "outputs": [],
   "source": [
    "x = scaler.fit_transform(x)"
   ]
  },
  {
   "cell_type": "code",
   "execution_count": null,
   "metadata": {},
   "outputs": [],
   "source": [
    "x = x.reshape(-1)\n",
    "print x.shape"
   ]
  },
  {
   "cell_type": "code",
   "execution_count": null,
   "metadata": {},
   "outputs": [],
   "source": [
    "print np.min(x)"
   ]
  },
  {
   "cell_type": "code",
   "execution_count": null,
   "metadata": {},
   "outputs": [],
   "source": [
    "print np.max(x)"
   ]
  },
  {
   "cell_type": "markdown",
   "metadata": {},
   "source": [
    "# PART 3\n",
    "_pg. 42-49_\n",
    "\n",
    "## Working with `statsmodels` Library"
   ]
  },
  {
   "cell_type": "code",
   "execution_count": null,
   "metadata": {},
   "outputs": [],
   "source": [
    "from statsmodels.tsa.stattools import pacf"
   ]
  },
  {
   "cell_type": "code",
   "execution_count": null,
   "metadata": {
    "collapsed": true
   },
   "outputs": [],
   "source": [
    "x_pacf = pacf(x, nlags=5, method='ols')"
   ]
  },
  {
   "cell_type": "code",
   "execution_count": null,
   "metadata": {},
   "outputs": [],
   "source": [
    "print x_pacf"
   ]
  },
  {
   "cell_type": "markdown",
   "metadata": {},
   "source": [
    "## Import `nnet_ts`\n",
    "\n",
    "This example from the book uses the `theano` backend for `keras`, but this is not important.\n",
    "\n",
    "Use `pip install theano` from the command-line if you have not already installed theano."
   ]
  },
  {
   "cell_type": "code",
   "execution_count": null,
   "metadata": {},
   "outputs": [],
   "source": [
    "from nnet_ts import *\n",
    "count = 0\n",
    "ahead = 12\n",
    "pred = list()"
   ]
  },
  {
   "cell_type": "markdown",
   "metadata": {},
   "source": [
    "## The `while` Loop\n",
    "\n",
    "We will use the same NN architecture as in Figure 2.5 on page 27."
   ]
  },
  {
   "cell_type": "code",
   "execution_count": null,
   "metadata": {},
   "outputs": [],
   "source": [
    "while count < ahead:\n",
    "    np.random.seed(2016)\n",
    "    \n",
    "    # Try to understand this line, where are we in the series?\n",
    "    end = len(x) - ahead + count\n",
    "    \n",
    "    # Set the NN parameters\n",
    "    fit1 = TimeSeriesNnet(hidden_layers=[7,3], activation_functions=[\"tanh\", \"tanh\"])\n",
    "\n",
    "    # What is the lag parameter doing?\n",
    "    fit1.fit(x[0:end], lag=1, epochs=100)\n",
    "\n",
    "    # What are we predicting?\n",
    "    out = fit1.predict_ahead(n_ahead=1)\n",
    "    \n",
    "    print \"Obs {:02d}: x={:0.4f}  prediction={:0.4f} \".format(count+1, round(x[count], 4), round(pd.Series(out), 4))\n",
    "    pred.append(out)   \n",
    "    count += 1"
   ]
  },
  {
   "cell_type": "markdown",
   "metadata": {},
   "source": [
    "### QUESTION: Do the prediction values make sense?"
   ]
  },
  {
   "cell_type": "markdown",
   "metadata": {},
   "source": [
    "## Realized and Predicted Values\n",
    "\n",
    "Now we need to undo the scaling and log transformation we used to preprocess the data."
   ]
  },
  {
   "cell_type": "code",
   "execution_count": null,
   "metadata": {},
   "outputs": [],
   "source": [
    "pred1 = scaler.inverse_transform(pred)\n",
    "pred1 = np.exp(pred1)\n",
    "print np.round(pred1, 1)"
   ]
  },
  {
   "cell_type": "markdown",
   "metadata": {},
   "source": [
    "## Visualizing the Results"
   ]
  },
  {
   "cell_type": "code",
   "execution_count": null,
   "metadata": {},
   "outputs": [],
   "source": [
    "# FIGURE 3.6 (p. 49)\n",
    "%matplotlib inline\n",
    "plt.rcParams['figure.figsize'] = (8,6)\n",
    "\n",
    "# Original Series\n",
    "plt.plot(time[-12:], price[-12:], linestyle='solid', label=\"Observed\", color=\"darkblue\", linewidth='1')\n",
    "\n",
    "# Predictions\n",
    "plt.plot(time[-12:], pred1, linestyle='solid', label=\"Predicted\", color=\"red\", linewidth='1')\n",
    "\n",
    "# Desired Tolerance\n",
    "max_price = [p + 1500 for p in price]\n",
    "min_price = [p - 1500 for p in price]\n",
    "# Why are we using -12 for the index?\n",
    "# Answer:\n",
    "plt.plot(time[-12:], max_price[-12:], linestyle='solid', label=\"Tolerance\", color=\"grey\", linewidth='0.5')\n",
    "plt.plot(time[-12:], min_price[-12:], linestyle='solid', color=\"grey\", linewidth='0.5')\n",
    "\n",
    "# Figure Settings\n",
    "plt.title(\"Figure 3.6: Observed and predicted values for COE\")\n",
    "plt.xlabel(\"Date\")\n",
    "plt.ylabel(\"Singaporean dollars\")\n",
    "plt.ylim(9000,17000)\n",
    "plt.legend()\n",
    "plt.show()"
   ]
  }
 ],
 "metadata": {
  "kernelspec": {
   "display_name": "Python 2",
   "language": "python",
   "name": "python2"
  },
  "language_info": {
   "codemirror_mode": {
    "name": "ipython",
    "version": 2
   },
   "file_extension": ".py",
   "mimetype": "text/x-python",
   "name": "python",
   "nbconvert_exporter": "python",
   "pygments_lexer": "ipython2",
   "version": "2.7.12"
  }
 },
 "nbformat": 4,
 "nbformat_minor": 1
}
