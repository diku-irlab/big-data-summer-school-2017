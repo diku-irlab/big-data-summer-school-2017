{
 "cells": [
  {
   "cell_type": "markdown",
   "metadata": {},
   "source": [
    "# Chapter 3 - Deep Neural Networks for Time Series Forecasting the Easy Way\n",
    "_pg. 31-50_\n",
    "\n",
    "## Getting the data from the internet  \n",
    "\n",
    "This example uses data from the internet, which we need to download and clean first."
   ]
  },
  {
   "cell_type": "code",
   "execution_count": 29,
   "metadata": {
    "collapsed": false
   },
   "outputs": [
    {
     "data": {
      "text/plain": [
       "('/home/dpindk/irlab/big-data-summer-school-2017/COE.xls',\n",
       " <httplib.HTTPMessage instance at 0x7fecfd4ddc68>)"
      ]
     },
     "execution_count": 29,
     "metadata": {},
     "output_type": "execute_result"
    }
   ],
   "source": [
    "import numpy as np\n",
    "import pandas as pd\n",
    "import urllib\n",
    "\n",
    "url = \"http://ww2.amstat.org/publications/jse/datasets/COE.xls\"\n",
    "loc = \"/home/dpindk/irlab/big-data-summer-school-2017/COE.xls\"\n",
    "urllib.urlretrieve(url, loc)"
   ]
  },
  {
   "cell_type": "markdown",
   "metadata": {},
   "source": [
    "## Cleaning Up Downloaded Spreadsheet Files"
   ]
  },
  {
   "cell_type": "code",
   "execution_count": 30,
   "metadata": {
    "collapsed": false
   },
   "outputs": [],
   "source": [
    "Excel_file = pd.ExcelFile(loc)"
   ]
  },
  {
   "cell_type": "markdown",
   "metadata": {},
   "source": [
    "## Worksheet Names"
   ]
  },
  {
   "cell_type": "code",
   "execution_count": 31,
   "metadata": {
    "collapsed": false
   },
   "outputs": [
    {
     "name": "stdout",
     "output_type": "stream",
     "text": [
      "[u'COE data']\n"
     ]
    }
   ],
   "source": [
    "print Excel_file.sheet_names"
   ]
  },
  {
   "cell_type": "code",
   "execution_count": 32,
   "metadata": {
    "collapsed": false
   },
   "outputs": [
    {
     "name": "stdout",
     "output_type": "stream",
     "text": [
      "<class 'pandas.core.frame.DataFrame'>\n",
      "RangeIndex: 265 entries, 0 to 264\n",
      "Data columns (total 6 columns):\n",
      "DATE      265 non-null datetime64[ns]\n",
      "COE$      265 non-null float64\n",
      "COE$_1    265 non-null float64\n",
      "#Bids     265 non-null int64\n",
      "Quota     265 non-null int64\n",
      "Open?     265 non-null int64\n",
      "dtypes: datetime64[ns](1), float64(2), int64(3)\n",
      "memory usage: 12.5 KB\n",
      "None\n"
     ]
    }
   ],
   "source": [
    "spreadsheet = Excel_file.parse('COE data')\n",
    "print spreadsheet.info()"
   ]
  },
  {
   "cell_type": "code",
   "execution_count": 33,
   "metadata": {
    "collapsed": false
   },
   "outputs": [],
   "source": [
    "data = spreadsheet['COE$']"
   ]
  },
  {
   "cell_type": "markdown",
   "metadata": {},
   "source": [
    "## View `data` Values"
   ]
  },
  {
   "cell_type": "code",
   "execution_count": 34,
   "metadata": {
    "collapsed": false
   },
   "outputs": [
    {
     "name": "stdout",
     "output_type": "stream",
     "text": [
      "0     7400.0\n",
      "1    11100.0\n",
      "2     5002.0\n",
      "3     3170.0\n",
      "4     3410.0\n",
      "Name: COE$, dtype: float64\n"
     ]
    }
   ],
   "source": [
    "print data.head()"
   ]
  },
  {
   "cell_type": "markdown",
   "metadata": {},
   "source": [
    "## Adjusting Data"
   ]
  },
  {
   "cell_type": "code",
   "execution_count": 35,
   "metadata": {
    "collapsed": false
   },
   "outputs": [
    {
     "name": "stdout",
     "output_type": "stream",
     "text": [
      "193   2004-02-01\n",
      "194   2002-02-15\n",
      "195   2004-03-01\n",
      "196   2004-03-15\n",
      "197   2004-04-01\n",
      "198   2002-04-15\n",
      "199   2004-05-01\n",
      "200   2004-05-15\n",
      "201   2004-06-01\n",
      "202   2002-06-15\n",
      "203   2004-07-01\n",
      "Name: DATE, dtype: datetime64[ns]\n"
     ]
    }
   ],
   "source": [
    "print spreadsheet['DATE'][193:204]"
   ]
  },
  {
   "cell_type": "markdown",
   "metadata": {},
   "source": [
    "Use the following to fix the year errors..."
   ]
  },
  {
   "cell_type": "code",
   "execution_count": 36,
   "metadata": {
    "collapsed": false
   },
   "outputs": [
    {
     "name": "stdout",
     "output_type": "stream",
     "text": [
      "193   2004-02-01\n",
      "194   2004-02-15\n",
      "195   2004-03-01\n",
      "196   2004-03-15\n",
      "197   2004-04-01\n",
      "198   2004-04-15\n",
      "199   2004-05-01\n",
      "200   2004-05-15\n",
      "201   2004-06-01\n",
      "202   2004-06-15\n",
      "203   2004-07-01\n",
      "Name: DATE, dtype: datetime64[ns]\n"
     ]
    }
   ],
   "source": [
    "spreadsheet.set_value(194, 'DATE', '2004-02-15')\n",
    "spreadsheet.set_value(198, 'DATE', '2004-04-15')\n",
    "spreadsheet.set_value(202, 'DATE', '2004-06-15')\n",
    "print spreadsheet['DATE'][193:204]"
   ]
  },
  {
   "cell_type": "markdown",
   "metadata": {},
   "source": [
    "## Saving the Data\n",
    "\n",
    "As shown in the book, we can save the data for later use with the following code as a comma separated values `.csv` file."
   ]
  },
  {
   "cell_type": "code",
   "execution_count": 37,
   "metadata": {
    "collapsed": false
   },
   "outputs": [],
   "source": [
    "loc = \"/home/dpindk/irlab/big-data-summer-school-2017/COE.csv\"\n",
    "spreadsheet.to_csv(loc)"
   ]
  },
  {
   "cell_type": "markdown",
   "metadata": {},
   "source": [
    "## How to Scale the Input Attributes"
   ]
  },
  {
   "cell_type": "code",
   "execution_count": 38,
   "metadata": {
    "collapsed": false
   },
   "outputs": [],
   "source": [
    "from sklearn import preprocessing\n",
    "x = data\n",
    "scaler = preprocessing.MinMaxScaler(feature_range=(0,1))"
   ]
  },
  {
   "cell_type": "code",
   "execution_count": 39,
   "metadata": {
    "collapsed": false
   },
   "outputs": [
    {
     "name": "stdout",
     "output_type": "stream",
     "text": [
      "MinMaxScaler(copy=True, feature_range=(0, 1))\n"
     ]
    }
   ],
   "source": [
    "print scaler"
   ]
  },
  {
   "cell_type": "code",
   "execution_count": 40,
   "metadata": {
    "collapsed": false
   },
   "outputs": [
    {
     "name": "stdout",
     "output_type": "stream",
     "text": [
      "<class 'pandas.core.series.Series'>\n"
     ]
    }
   ],
   "source": [
    "print type(x)"
   ]
  },
  {
   "cell_type": "code",
   "execution_count": 41,
   "metadata": {
    "collapsed": false
   },
   "outputs": [],
   "source": [
    "x = np.array(x).reshape((len(x), ))"
   ]
  },
  {
   "cell_type": "code",
   "execution_count": 42,
   "metadata": {
    "collapsed": false
   },
   "outputs": [
    {
     "name": "stdout",
     "output_type": "stream",
     "text": [
      "<type 'numpy.ndarray'>\n"
     ]
    }
   ],
   "source": [
    "print type(x)"
   ]
  },
  {
   "cell_type": "markdown",
   "metadata": {},
   "source": [
    "## Log Transform"
   ]
  },
  {
   "cell_type": "code",
   "execution_count": 43,
   "metadata": {
    "collapsed": true
   },
   "outputs": [],
   "source": [
    "x = np.log(x)"
   ]
  },
  {
   "cell_type": "markdown",
   "metadata": {},
   "source": [
    "## A Note on Data Shape "
   ]
  },
  {
   "cell_type": "code",
   "execution_count": 44,
   "metadata": {
    "collapsed": false
   },
   "outputs": [
    {
     "name": "stdout",
     "output_type": "stream",
     "text": [
      "(265,)\n"
     ]
    }
   ],
   "source": [
    "print x.shape"
   ]
  },
  {
   "cell_type": "code",
   "execution_count": 45,
   "metadata": {
    "collapsed": false
   },
   "outputs": [
    {
     "name": "stdout",
     "output_type": "stream",
     "text": [
      "(265, 1)\n"
     ]
    }
   ],
   "source": [
    "x = x.reshape(-1,1)\n",
    "print x.shape"
   ]
  },
  {
   "cell_type": "markdown",
   "metadata": {},
   "source": [
    "## Scale `x`"
   ]
  },
  {
   "cell_type": "code",
   "execution_count": 46,
   "metadata": {
    "collapsed": true
   },
   "outputs": [],
   "source": [
    "x = scaler.fit_transform(x)"
   ]
  },
  {
   "cell_type": "code",
   "execution_count": 47,
   "metadata": {
    "collapsed": false
   },
   "outputs": [
    {
     "name": "stdout",
     "output_type": "stream",
     "text": [
      "(265,)\n"
     ]
    }
   ],
   "source": [
    "x = x.reshape(-1)\n",
    "print x.shape"
   ]
  },
  {
   "cell_type": "code",
   "execution_count": 48,
   "metadata": {
    "collapsed": false
   },
   "outputs": [
    {
     "name": "stdout",
     "output_type": "stream",
     "text": [
      "0.0\n",
      "0.0\n"
     ]
    }
   ],
   "source": [
    "print(round(x.min(), 2))\n",
    "print np.min(x)"
   ]
  },
  {
   "cell_type": "code",
   "execution_count": 49,
   "metadata": {
    "collapsed": false
   },
   "outputs": [
    {
     "name": "stdout",
     "output_type": "stream",
     "text": [
      "1.0\n",
      "1.0\n"
     ]
    }
   ],
   "source": [
    "print(round(x.max(), 2))\n",
    "print np.max(x)"
   ]
  },
  {
   "cell_type": "markdown",
   "metadata": {},
   "source": [
    "## Working with `statsmodels` Library"
   ]
  },
  {
   "cell_type": "code",
   "execution_count": 50,
   "metadata": {
    "collapsed": false
   },
   "outputs": [],
   "source": [
    "from statsmodels.tsa.stattools import pacf"
   ]
  },
  {
   "cell_type": "code",
   "execution_count": 51,
   "metadata": {
    "collapsed": true
   },
   "outputs": [],
   "source": [
    "x_pacf = pacf(x, nlags=5, method='ols')"
   ]
  },
  {
   "cell_type": "code",
   "execution_count": 52,
   "metadata": {
    "collapsed": false
   },
   "outputs": [
    {
     "name": "stdout",
     "output_type": "stream",
     "text": [
      "[ 1.          0.95969034 -0.27093837  0.22144024 -0.04729577  0.07360662]\n"
     ]
    }
   ],
   "source": [
    "print x_pacf"
   ]
  },
  {
   "cell_type": "markdown",
   "metadata": {
    "collapsed": true
   },
   "source": [
    "## Import `nnet_ts`"
   ]
  },
  {
   "cell_type": "code",
   "execution_count": 53,
   "metadata": {
    "collapsed": false
   },
   "outputs": [],
   "source": [
    "from nnet_ts import *\n",
    "count = 0\n",
    "ahead = 12\n",
    "pred = list()"
   ]
  },
  {
   "cell_type": "markdown",
   "metadata": {},
   "source": [
    "## The `while` Loop"
   ]
  },
  {
   "cell_type": "code",
   "execution_count": 54,
   "metadata": {
    "collapsed": false
   },
   "outputs": [
    {
     "name": "stdout",
     "output_type": "stream",
     "text": [
      "Obs 01: x=0.4303  y=0.5208 \n",
      "Obs 02: x=0.5174  y=0.5226 \n",
      "Obs 03: x=0.3462  y=0.5425 \n",
      "Obs 04: x=0.2482  y=0.5619 \n",
      "Obs 05: x=0.2639  y=0.5825 \n",
      "Obs 06: x=0.1979  y=0.5637 \n",
      "Obs 07: x=0.0000  y=0.5434 \n",
      "Obs 08: x=0.1064  y=0.5522 \n",
      "Obs 09: x=0.3875  y=0.5487 \n",
      "Obs 10: x=0.4726  y=0.5768 \n",
      "Obs 11: x=0.5188  y=0.5845 \n",
      "Obs 12: x=0.5406  y=0.5532 \n"
     ]
    }
   ],
   "source": [
    "while count < ahead:\n",
    "    end = len(x) - ahead + count\n",
    "    np.random.seed(2016)\n",
    "    \n",
    "    fit1 = TimeSeriesNnet(hidden_layers=[7,3], activation_functions=[\"tanh\", \"tanh\"])\n",
    "    fit1.fit(x[0:end], lag=1, epochs=100)\n",
    "    out = fit1.predict_ahead(n_ahead=1)\n",
    "    \n",
    "    print \"Obs {:02d}: x={:0.4f}  y={:0.4f} \".format(count+1, round(x[count], 4), round(pd.Series(out), 4))\n",
    "    \n",
    "    pred.append(out)\n",
    "    \n",
    "    count += 1"
   ]
  },
  {
   "cell_type": "markdown",
   "metadata": {},
   "source": [
    "## Realized and Predicted Values"
   ]
  },
  {
   "cell_type": "code",
   "execution_count": 55,
   "metadata": {
    "collapsed": false
   },
   "outputs": [
    {
     "name": "stdout",
     "output_type": "stream",
     "text": [
      "[[ 11275.8]\n",
      " [ 11372. ]\n",
      " [ 12478.2]\n",
      " [ 13655.2]\n",
      " [ 15031.4]\n",
      " [ 13773.9]\n",
      " [ 12530.3]\n",
      " [ 13055.6]\n",
      " [ 12842.4]\n",
      " [ 14633.9]\n",
      " [ 15169. ]\n",
      " [ 13112.4]]\n"
     ]
    }
   ],
   "source": [
    "pred1 = scaler.inverse_transform(pred)\n",
    "pred1 = np.exp(pred1)\n",
    "print np.round(pred1, 1)"
   ]
  }
 ],
 "metadata": {
  "kernelspec": {
   "display_name": "Python 2",
   "language": "python",
   "name": "python2"
  },
  "language_info": {
   "codemirror_mode": {
    "name": "ipython",
    "version": 2
   },
   "file_extension": ".py",
   "mimetype": "text/x-python",
   "name": "python",
   "nbconvert_exporter": "python",
   "pygments_lexer": "ipython2",
   "version": "2.7.13"
  }
 },
 "nbformat": 4,
 "nbformat_minor": 0
}
