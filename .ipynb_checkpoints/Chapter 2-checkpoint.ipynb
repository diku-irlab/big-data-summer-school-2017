{
 "cells": [
  {
   "cell_type": "markdown",
   "metadata": {},
   "source": [
    "## Chapter 2 - Deep Neural Networks Explained\n",
    "_pg. 17-30_\n",
    "\n",
    "The example in this chapter uses a deep nerual network to approximate $y = x^{2}$."
   ]
  },
  {
   "cell_type": "markdown",
   "metadata": {},
   "source": [
    "## Generating Data for Use with a Deep Neural Network"
   ]
  },
  {
   "cell_type": "code",
   "execution_count": 1,
   "metadata": {
    "collapsed": false
   },
   "outputs": [],
   "source": [
    "# From page 21\n",
    "import numpy as np\n",
    "import pandas as pd\n",
    "import random"
   ]
  },
  {
   "cell_type": "code",
   "execution_count": 2,
   "metadata": {
    "collapsed": true
   },
   "outputs": [],
   "source": [
    "random.seed(2016)\n",
    "sample_size = 50\n",
    "sample = pd.Series(random.sample(range(-10000,10000), sample_size))\n",
    "x = sample / 10000\n",
    "y = x**2"
   ]
  },
  {
   "cell_type": "markdown",
   "metadata": {},
   "source": [
    "## Exploring the Sample Data"
   ]
  },
  {
   "cell_type": "code",
   "execution_count": 3,
   "metadata": {
    "collapsed": false
   },
   "outputs": [
    {
     "name": "stdout",
     "output_type": "stream",
     "text": [
      "0    0.4758\n",
      "1   -0.1026\n",
      "2    0.7847\n",
      "3    0.7506\n",
      "4   -0.4870\n",
      "5    0.3657\n",
      "6    0.8647\n",
      "7   -0.8361\n",
      "8   -0.4067\n",
      "9   -0.8568\n",
      "dtype: float64\n"
     ]
    }
   ],
   "source": [
    "print x.head(10)"
   ]
  },
  {
   "cell_type": "code",
   "execution_count": 4,
   "metadata": {
    "collapsed": false
   },
   "outputs": [
    {
     "name": "stdout",
     "output_type": "stream",
     "text": [
      "0    0.226386\n",
      "1    0.010527\n",
      "2    0.615754\n",
      "3    0.563400\n",
      "4    0.237169\n",
      "5    0.133736\n",
      "6    0.747706\n",
      "7    0.699063\n",
      "8    0.165405\n",
      "9    0.734106\n",
      "dtype: float64\n"
     ]
    }
   ],
   "source": [
    "print y.head(10)"
   ]
  },
  {
   "cell_type": "code",
   "execution_count": 5,
   "metadata": {
    "collapsed": false
   },
   "outputs": [
    {
     "name": "stdout",
     "output_type": "stream",
     "text": [
      "count    50.000000\n",
      "mean     -0.100928\n",
      "std       0.534392\n",
      "min      -0.937000\n",
      "25%      -0.562275\n",
      "50%      -0.098400\n",
      "75%       0.359750\n",
      "max       0.864700\n",
      "dtype: float64\n"
     ]
    }
   ],
   "source": [
    "print x.describe()"
   ]
  },
  {
   "cell_type": "markdown",
   "metadata": {},
   "source": [
    "## Translating Sample Data into a Suitable Format"
   ]
  },
  {
   "cell_type": "code",
   "execution_count": 6,
   "metadata": {
    "collapsed": false
   },
   "outputs": [
    {
     "name": "stdout",
     "output_type": "stream",
     "text": [
      "Working on data item: 01   x=+0.4758  y=0.2264\n",
      "Working on data item: 02   x=-0.1026  y=0.0105\n",
      "Working on data item: 03   x=+0.7847  y=0.6158\n",
      "Working on data item: 04   x=+0.7506  y=0.5634\n",
      "Working on data item: 05   x=-0.4870  y=0.2372\n",
      "Working on data item: 06   x=+0.3657  y=0.1337\n",
      "Working on data item: 07   x=+0.8647  y=0.7477\n",
      "Working on data item: 08   x=-0.8361  y=0.6991\n",
      "Working on data item: 09   x=-0.4067  y=0.1654\n",
      "Working on data item: 10   x=-0.8568  y=0.7341\n",
      "Working on data item: 11   x=-0.0265  y=0.0007\n",
      "Working on data item: 12   x=-0.0539  y=0.0029\n",
      "Working on data item: 13   x=-0.4015  y=0.1612\n",
      "Working on data item: 14   x=-0.6901  y=0.4762\n",
      "Working on data item: 15   x=-0.5783  y=0.3344\n",
      "Working on data item: 16   x=-0.5834  y=0.3404\n",
      "Working on data item: 17   x=-0.6630  y=0.4396\n",
      "Working on data item: 18   x=-0.0942  y=0.0089\n",
      "Working on data item: 19   x=+0.4216  y=0.1777\n",
      "Working on data item: 20   x=+0.2576  y=0.0664\n",
      "Working on data item: 21   x=-0.5142  y=0.2644\n",
      "Working on data item: 22   x=+0.2167  y=0.0470\n",
      "Working on data item: 23   x=+0.7212  y=0.5201\n",
      "Working on data item: 24   x=+0.5461  y=0.2982\n",
      "Working on data item: 25   x=-0.9324  y=0.8694\n",
      "Working on data item: 26   x=+0.1362  y=0.0186\n",
      "Working on data item: 27   x=-0.6049  y=0.3659\n",
      "Working on data item: 28   x=-0.3650  y=0.1332\n",
      "Working on data item: 29   x=+0.2513  y=0.0632\n",
      "Working on data item: 30   x=-0.8546  y=0.7303\n",
      "Working on data item: 31   x=+0.5286  y=0.2794\n",
      "Working on data item: 32   x=-0.8062  y=0.6500\n",
      "Working on data item: 33   x=+0.0598  y=0.0036\n",
      "Working on data item: 34   x=-0.9370  y=0.8780\n",
      "Working on data item: 35   x=+0.1664  y=0.0277\n",
      "Working on data item: 36   x=+0.7266  y=0.5279\n",
      "Working on data item: 37   x=-0.2977  y=0.0886\n",
      "Working on data item: 38   x=+0.3419  y=0.1169\n",
      "Working on data item: 39   x=-0.2858  y=0.0817\n",
      "Working on data item: 40   x=-0.2190  y=0.0480\n",
      "Working on data item: 41   x=+0.0541  y=0.0029\n",
      "Working on data item: 42   x=-0.4914  y=0.2415\n",
      "Working on data item: 43   x=+0.4218  y=0.1779\n",
      "Working on data item: 44   x=-0.2745  y=0.0754\n",
      "Working on data item: 45   x=+0.5425  y=0.2943\n",
      "Working on data item: 46   x=-0.6335  y=0.4013\n",
      "Working on data item: 47   x=-0.3994  y=0.1595\n",
      "Working on data item: 48   x=-0.8763  y=0.7679\n",
      "Working on data item: 49   x=+0.4588  y=0.2105\n"
     ]
    },
    {
     "name": "stderr",
     "output_type": "stream",
     "text": [
      "/home/dpindk/anaconda2/lib/python2.7/site-packages/ipykernel/__main__.py:2: DeprecationWarning: \n",
      ".ix is deprecated. Please use\n",
      ".loc for label based indexing or\n",
      ".iloc for positional indexing\n",
      "\n",
      "See the documentation here:\n",
      "http://pandas.pydata.org/pandas-docs/stable/indexing.html#deprecate_ix\n",
      "  from ipykernel import kernelapp as app\n"
     ]
    }
   ],
   "source": [
    "count = 0\n",
    "dataSet = [([x.ix[count]], [y.ix[count]])]\n",
    "count = 1\n",
    "while count < sample_size:\n",
    "    dataSet = (dataSet + [([x.ix[count,0]], [y.ix[count]])])\n",
    "    print \"Working on data item: {:02d}   x={:+0.4f}  y={:0.4f}\".format(count, dataSet[count-1][0][0], dataSet[count-1][1][0])\n",
    "    count += 1"
   ]
  },
  {
   "cell_type": "markdown",
   "metadata": {},
   "source": [
    "## A Super Easy Deep Neural Network Python Tool"
   ]
  },
  {
   "cell_type": "code",
   "execution_count": 7,
   "metadata": {
    "collapsed": false
   },
   "outputs": [],
   "source": [
    "import sys\n",
    "assert(sys.version[0] == '2' and sys.version[2] == '7')"
   ]
  },
  {
   "cell_type": "code",
   "execution_count": 8,
   "metadata": {
    "collapsed": false
   },
   "outputs": [],
   "source": [
    "import neuralpy\n",
    "fit = neuralpy.Network(1, 3, 7, 1)"
   ]
  },
  {
   "cell_type": "code",
   "execution_count": 9,
   "metadata": {
    "collapsed": true
   },
   "outputs": [],
   "source": [
    "epochs = 100\n",
    "learning_rate = 1"
   ]
  },
  {
   "cell_type": "code",
   "execution_count": 10,
   "metadata": {
    "collapsed": false
   },
   "outputs": [
    {
     "name": "stdout",
     "output_type": "stream",
     "text": [
      "Fitting model right now...\n"
     ]
    }
   ],
   "source": [
    "print \"Fitting model right now...\"\n",
    "fit.train(dataSet, epochs, learning_rate)"
   ]
  },
  {
   "cell_type": "markdown",
   "metadata": {},
   "source": [
    "## Assessing Model Performance"
   ]
  },
  {
   "cell_type": "code",
   "execution_count": 11,
   "metadata": {
    "collapsed": false
   },
   "outputs": [
    {
     "name": "stdout",
     "output_type": "stream",
     "text": [
      "Obs 01:  y=0.2264  pred=0.2416  err=-0.0152\n",
      "Obs 02:  y=0.0105  pred=0.0595  err=-0.0490\n",
      "Obs 03:  y=0.6158  pred=0.6017  err=+0.0141\n",
      "Obs 04:  y=0.5634  pred=0.5674  err=-0.0040\n",
      "Obs 05:  y=0.2372  pred=0.1897  err=+0.0475\n",
      "Obs 06:  y=0.1337  pred=0.1538  err=-0.0201\n",
      "Obs 07:  y=0.7477  pred=0.6684  err=+0.0793\n",
      "Obs 08:  y=0.6991  pred=0.7304  err=-0.0313\n",
      "Obs 09:  y=0.1654  pred=0.1214  err=+0.0440\n",
      "Obs 10:  y=0.7341  pred=0.7465  err=-0.0123\n",
      "Obs 11:  y=0.0007  pred=0.0604  err=-0.0597\n",
      "Obs 12:  y=0.0029  pred=0.0597  err=-0.0568\n",
      "Obs 13:  y=0.1612  pred=0.1183  err=+0.0429\n",
      "Obs 14:  y=0.4762  pred=0.5410  err=-0.0648\n",
      "Obs 15:  y=0.3344  pred=0.3269  err=+0.0075\n",
      "Obs 16:  y=0.3404  pred=0.3363  err=+0.0040\n",
      "Obs 17:  y=0.4396  pred=0.4908  err=-0.0512\n",
      "Obs 18:  y=0.0089  pred=0.0594  err=-0.0506\n",
      "Obs 19:  y=0.1777  pred=0.1931  err=-0.0153\n",
      "Obs 20:  y=0.0664  pred=0.1039  err=-0.0375\n",
      "Obs 21:  y=0.2644  pred=0.2237  err=+0.0407\n",
      "Obs 22:  y=0.0470  pred=0.0918  err=-0.0448\n",
      "Obs 23:  y=0.5201  pred=0.5352  err=-0.0151\n",
      "Obs 24:  y=0.2982  pred=0.3188  err=-0.0206\n",
      "Obs 25:  y=0.8694  pred=0.7896  err=+0.0797\n",
      "Obs 26:  y=0.0186  pred=0.0751  err=-0.0566\n",
      "Obs 27:  y=0.3659  pred=0.3772  err=-0.0113\n",
      "Obs 28:  y=0.1332  pred=0.1003  err=+0.0329\n",
      "Obs 29:  y=0.0632  pred=0.1018  err=-0.0387\n",
      "Obs 30:  y=0.7303  pred=0.7448  err=-0.0145\n",
      "Obs 31:  y=0.2794  pred=0.2983  err=-0.0189\n",
      "Obs 32:  y=0.6500  pred=0.7031  err=-0.0531\n",
      "Obs 33:  y=0.0036  pred=0.0658  err=-0.0622\n",
      "Obs 34:  y=0.8780  pred=0.7916  err=+0.0863\n",
      "Obs 35:  y=0.0277  pred=0.0804  err=-0.0527\n",
      "Obs 36:  y=0.5279  pred=0.5413  err=-0.0134\n",
      "Obs 37:  y=0.0886  pred=0.0789  err=+0.0097\n",
      "Obs 38:  y=0.1169  pred=0.1401  err=-0.0232\n",
      "Obs 39:  y=0.0817  pred=0.0763  err=+0.0054\n",
      "Obs 40:  y=0.0480  pred=0.0660  err=-0.0180\n",
      "Obs 41:  y=0.0029  pred=0.0653  err=-0.0623\n",
      "Obs 42:  y=0.2415  pred=0.1948  err=+0.0467\n",
      "Obs 43:  y=0.1779  pred=0.1932  err=-0.0153\n",
      "Obs 44:  y=0.0754  pred=0.0741  err=+0.0013\n",
      "Obs 45:  y=0.2943  pred=0.3146  err=-0.0202\n",
      "Obs 46:  y=0.4013  pred=0.4334  err=-0.0320\n",
      "Obs 47:  y=0.1595  pred=0.1171  err=+0.0424\n",
      "Obs 48:  y=0.7679  pred=0.7597  err=+0.0082\n",
      "Obs 49:  y=0.2105  pred=0.2252  err=-0.0148\n",
      "Obs 50:  y=0.0177  pred=0.0746  err=-0.0570\n"
     ]
    }
   ],
   "source": [
    "count = 0\n",
    "pred = list()\n",
    "while count < sample_size:\n",
    "    out = fit.forward(x[count])\n",
    "    print \"Obs {:02d}:  y={:0.4f}  pred={:0.4f}  err={:+0.4f}\".format(count+1, y[count], out[0], y[count] - out[0])\n",
    "    pred.append(out[0])\n",
    "    count += 1"
   ]
  },
  {
   "cell_type": "markdown",
   "metadata": {},
   "source": [
    "## Plotting the Results"
   ]
  },
  {
   "cell_type": "code",
   "execution_count": 12,
   "metadata": {
    "collapsed": false
   },
   "outputs": [
    {
     "data": {
      "image/png": "[encoded data removed]",
      "text/plain": [
       "<matplotlib.figure.Figure at 0x7f88a3f03f90>"
      ]
     },
     "metadata": {},
     "output_type": "display_data"
    }
   ],
   "source": [
    "import matplotlib\n",
    "import matplotlib.pyplot as plt\n",
    "matplotlib.style.use('ggplot')\n",
    "\n",
    "%matplotlib inline\n",
    "plt.rcParams['figure.figsize'] = (8,6)\n",
    "xs = np.linspace(-1.0,1.0, 100)\n",
    "ys = xs**2\n",
    "plt.plot(xs, ys, \"-\", label=\"$y=x^2$\", color=\"black\")\n",
    "plt.plot(x.values.tolist(), pred, \".\", label=\"DNN prediction\", color=\"red\")\n",
    "plt.title(\"Figure 2.6: Predicted values of $y=x^2$ using $\\mathtt{neuralpy}$\")\n",
    "plt.xlabel(\"$x$\")\n",
    "plt.ylabel(\"$y$\")\n",
    "plt.legend()\n",
    "plt.show()"
   ]
  }
 ],
 "metadata": {
  "kernelspec": {
   "display_name": "Python 2",
   "language": "python",
   "name": "python2"
  },
  "language_info": {
   "codemirror_mode": {
    "name": "ipython",
    "version": 2
   },
   "file_extension": ".py",
   "mimetype": "text/x-python",
   "name": "python",
   "nbconvert_exporter": "python",
   "pygments_lexer": "ipython2",
   "version": "2.7.13"
  }
 },
 "nbformat": 4,
 "nbformat_minor": 0
}
