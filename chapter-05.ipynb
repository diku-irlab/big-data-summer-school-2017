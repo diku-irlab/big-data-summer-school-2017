{
 "cells": [
  {
   "cell_type": "markdown",
   "metadata": {
    "collapsed": true
   },
   "source": [
    "# CHAPTER 5 - The Simple Recurrent Neural Network\n",
    "\n",
    "_pg. 67-82_"
   ]
  },
  {
   "cell_type": "markdown",
   "metadata": {
    "collapsed": true
   },
   "source": [
    "# PART 1\n",
    "_pg.70-76_\n",
    "\n",
    "## Prepare the Sample Data"
   ]
  },
  {
   "cell_type": "code",
   "execution_count": 1,
   "metadata": {
    "collapsed": true
   },
   "outputs": [],
   "source": [
    "%matplotlib inline\n",
    "import matplotlib\n",
    "import matplotlib.pyplot as plt\n",
    "matplotlib.style.use('ggplot')"
   ]
  },
  {
   "cell_type": "code",
   "execution_count": 2,
   "metadata": {},
   "outputs": [],
   "source": [
    "import numpy as np\n",
    "import pandas as pd\n",
    "from sklearn import preprocessing\n",
    "\n",
    "loc = \"/home/ubuntu/CSU/Notebooks/big-data-summer-school-2017/COE.csv\"\n",
    "temp = pd.read_csv(loc)\n",
    "data = temp.drop(temp.columns [[0,1]], axis=1)\n",
    "\n",
    "y = data[\"COE$\"]\n",
    "\n",
    "x = data.drop(data.columns[[0,4]], axis=1)\n",
    "x = x.apply(np.log)\n",
    "x = pd.concat([x, data[\"Open?\"]], axis=1)\n",
    "\n",
    "scaler_x = preprocessing.MinMaxScaler(feature_range=(0,1))\n",
    "x = np.array(x).reshape((len(x), 4))\n",
    "x = scaler_x.fit_transform(x)\n",
    "\n",
    "scaler_y = preprocessing.MinMaxScaler(feature_range=(0,1))\n",
    "y = np.array(y).reshape((len(y), 1))\n",
    "y = np.log(y)\n",
    "y = scaler_y.fit_transform(y)"
   ]
  },
  {
   "cell_type": "markdown",
   "metadata": {},
   "source": [
    "## Follow this Approach to Create Your Train and Test Sets"
   ]
  },
  {
   "cell_type": "code",
   "execution_count": 3,
   "metadata": {
    "collapsed": true
   },
   "outputs": [],
   "source": [
    "end = len(x) - 1\n",
    "learn_end = int(end * 0.954)\n",
    "x_train = x[0:learn_end - 1, ]\n",
    "x_test = x[learn_end:end - 1, ]\n",
    "y_train = y[1:learn_end]\n",
    "y_test = y[learn_end + 1: end]\n",
    "\n",
    "x_train = x_train.reshape(x_train.shape + (1,))\n",
    "x_test = x_test.reshape(x_test.shape + (1,))"
   ]
  },
  {
   "cell_type": "code",
   "execution_count": 4,
   "metadata": {},
   "outputs": [
    {
     "name": "stdout",
     "output_type": "stream",
     "text": [
      "Shape of x_train is  (250, 4, 1)\n"
     ]
    }
   ],
   "source": [
    "print \"Shape of x_train is \", x_train.shape"
   ]
  },
  {
   "cell_type": "code",
   "execution_count": 5,
   "metadata": {},
   "outputs": [
    {
     "name": "stdout",
     "output_type": "stream",
     "text": [
      "Shape of x_test is  (12, 4, 1)\n"
     ]
    }
   ],
   "source": [
    "print \"Shape of x_test is \", x_test.shape"
   ]
  },
  {
   "cell_type": "markdown",
   "metadata": {},
   "source": [
    "## Import Keras"
   ]
  },
  {
   "cell_type": "code",
   "execution_count": 6,
   "metadata": {},
   "outputs": [
    {
     "name": "stderr",
     "output_type": "stream",
     "text": [
      "Using Theano backend.\n",
      "WARNING (theano.sandbox.cuda): The cuda backend is deprecated and will be removed in the next release (v0.10).  Please switch to the gpuarray backend. You can get more information about how to switch at this URL:\n",
      " https://github.com/Theano/Theano/wiki/Converting-to-the-new-gpu-back-end%28gpuarray%29\n",
      "\n",
      "Using gpu device 0: Tesla K80 (CNMeM is disabled, cuDNN 5110)\n"
     ]
    }
   ],
   "source": [
    "from keras.models import Sequential\n",
    "from keras.optimizers import SGD\n",
    "from keras.layers.core import Dense, Activation\n",
    "from keras.layers.recurrent import SimpleRNN"
   ]
  },
  {
   "cell_type": "markdown",
   "metadata": {},
   "source": [
    "## Determine Model Structure"
   ]
  },
  {
   "cell_type": "code",
   "execution_count": 7,
   "metadata": {},
   "outputs": [],
   "source": [
    "seed = 2016\n",
    "np.random.seed(seed)\n",
    "fit1 = Sequential()\n",
    "# UPDATED\n",
    "fit1.add(SimpleRNN(output_dim=8, activation=\"tanh\", input_shape=(4,1)))\n",
    "# fit1.add(SimpleRNN(units=8, activation=\"tanh\", input_shape=(4,1)))\n",
    "# UPDATED\n",
    "fit1.add(Dense(output_dim=1, activation='linear'))\n",
    "# fit1.add(Dense(units=1, activation='linear'))"
   ]
  },
  {
   "cell_type": "markdown",
   "metadata": {},
   "source": [
    "# PART 2\n",
    "_pg. 79-81_"
   ]
  },
  {
   "cell_type": "code",
   "execution_count": 8,
   "metadata": {
    "collapsed": true
   },
   "outputs": [],
   "source": [
    "# uses accelerated gradient descent\n",
    "sgd = SGD(lr=0.0001, momentum=0.95, nesterov=True)\n",
    "fit1.compile(loss='mean_squared_error', optimizer=sgd)"
   ]
  },
  {
   "cell_type": "markdown",
   "metadata": {},
   "source": [
    "## Fitting the Model\n",
    "The model, with a batch size of 10, is fit over 700 epochs as follows:"
   ]
  },
  {
   "cell_type": "code",
   "execution_count": 9,
   "metadata": {},
   "outputs": [],
   "source": [
    "%%capture\n",
    "fit1.fit(x_train, y_train, batch_size=10, nb_epoch=700)"
   ]
  },
  {
   "cell_type": "code",
   "execution_count": 10,
   "metadata": {},
   "outputs": [
    {
     "name": "stdout",
     "output_type": "stream",
     "text": [
      "10/12 [========================>.....] - ETA: 0s0sin train MSE =  0.003548\n",
      "in test MSE =  0.000702\n"
     ]
    }
   ],
   "source": [
    "score_train = fit1.evaluate(x_train, y_train, batch_size=10)\n",
    "score_test = fit1.evaluate(x_test, y_test, batch_size=10)\n",
    "print \"in train MSE = \", round(score_train, 6)\n",
    "print \"in test MSE = \", round(score_test, 6)"
   ]
  },
  {
   "cell_type": "code",
   "execution_count": 11,
   "metadata": {},
   "outputs": [
    {
     "name": "stdout",
     "output_type": "stream",
     "text": [
      "[[ 0.54559129]\n",
      " [ 0.52521986]\n",
      " [ 0.52223146]\n",
      " [ 0.52868652]\n",
      " [ 0.55742121]\n",
      " [ 0.5719558 ]\n",
      " [ 0.59507048]\n",
      " [ 0.57978672]\n",
      " [ 0.55386668]\n",
      " [ 0.54346991]\n",
      " [ 0.57266098]\n",
      " [ 0.57798773]]\n"
     ]
    }
   ],
   "source": [
    "pred1 = fit1.predict(x_test)\n",
    "print pred1"
   ]
  },
  {
   "cell_type": "code",
   "execution_count": 12,
   "metadata": {},
   "outputs": [
    {
     "name": "stdout",
     "output_type": "stream",
     "text": [
      "[[ 9.44600582]\n",
      " [ 9.35115719]\n",
      " [ 9.33724308]\n",
      " [ 9.36729813]\n",
      " [ 9.50108624]\n",
      " [ 9.56875801]\n",
      " [ 9.6763792 ]\n",
      " [ 9.60521793]\n",
      " [ 9.48453617]\n",
      " [ 9.43612957]\n",
      " [ 9.57204151]\n",
      " [ 9.59684277]]\n"
     ]
    }
   ],
   "source": [
    "# apply the inverse transformation to predictions\n",
    "pred1 = scaler_y.inverse_transform(np.array(pred1).reshape((len(pred1), 1)))\n",
    "print pred1"
   ]
  },
  {
   "cell_type": "code",
   "execution_count": 13,
   "metadata": {},
   "outputs": [
    {
     "name": "stdout",
     "output_type": "stream",
     "text": [
      "[[ 12658.]\n",
      " [ 11512.]\n",
      " [ 11353.]\n",
      " [ 11699.]\n",
      " [ 13374.]\n",
      " [ 14311.]\n",
      " [ 15937.]\n",
      " [ 14842.]\n",
      " [ 13155.]\n",
      " [ 12533.]\n",
      " [ 14358.]\n",
      " [ 14718.]]\n"
     ]
    }
   ],
   "source": [
    "# undo the initial log transformation of the data\n",
    "pred1 = np.exp(pred1)\n",
    "print np.rint(pred1)"
   ]
  },
  {
   "cell_type": "markdown",
   "metadata": {},
   "source": [
    "## Visualize the Data"
   ]
  },
  {
   "cell_type": "code",
   "execution_count": 14,
   "metadata": {},
   "outputs": [
    {
     "data": {
      "image/png": "[encoded data removed]",
      "text/plain": [
       "<matplotlib.figure.Figure at 0x7ff5086e8990>"
      ]
     },
     "metadata": {},
     "output_type": "display_data"
    }
   ],
   "source": [
    "# CREATE FIGURE 5.4\n",
    "# pg. 81\n",
    "plt.rcParams['figure.figsize'] = (8,6)\n",
    "\n",
    "# Original Series\n",
    "obs_price = data[\"COE$\"][-13:-1]\n",
    "max_price = (obs_price + 1500).tolist()\n",
    "min_price = (obs_price - 1500).tolist()\n",
    "obs_price.tolist()\n",
    "\n",
    "plt.plot(range(12), obs_price, linestyle='solid', label=\"Observed\", color=\"darkblue\", linewidth='1')\n",
    "\n",
    "# Predictions\n",
    "plt.plot(range(12), pred1, linestyle='solid', label=\"Predicted\", color=\"red\", linewidth='1')\n",
    "\n",
    "# Desired Tolerance\n",
    "plt.plot(range(12), max_price, linestyle='solid', label=\"Tolerance\", color=\"grey\", linewidth='0.5')\n",
    "plt.plot(range(12), min_price, linestyle='solid', label=None, color=\"grey\", linewidth='0.5')\n",
    "\n",
    "# Figure Settings\n",
    "plt.title(\"Figure 5.4: Actual and forecasted values for Simple RNN\")\n",
    "plt.xlabel(\"Prediction Period\")\n",
    "plt.ylabel(\"Singaporean dollars\")\n",
    "plt.ylim(9000,18000)\n",
    "plt.legend()\n",
    "plt.show()"
   ]
  }
 ],
 "metadata": {
  "kernelspec": {
   "display_name": "Python 2",
   "language": "python",
   "name": "python2"
  },
  "language_info": {
   "codemirror_mode": {
    "name": "ipython",
    "version": 2
   },
   "file_extension": ".py",
   "mimetype": "text/x-python",
   "name": "python",
   "nbconvert_exporter": "python",
   "pygments_lexer": "ipython2",
   "version": "2.7.12"
  }
 },
 "nbformat": 4,
 "nbformat_minor": 1
}
