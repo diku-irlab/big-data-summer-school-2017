{
 "cells": [
  {
   "cell_type": "markdown",
   "metadata": {},
   "source": [
    "# CHAPTER 2 - Deep Neural Networks Explained\n",
    "_pg. 17-30_\n",
    "\n",
    "The example in this chapter uses a deep nerual network to approximate $y = x^{2}$.\n",
    "\n",
    "So $x$ will be the observed value and $y$ will be the target value."
   ]
  },
  {
   "cell_type": "markdown",
   "metadata": {},
   "source": [
    "## Generating Data for Use with a Deep Neural Network"
   ]
  },
  {
   "cell_type": "code",
   "execution_count": 31,
   "metadata": {
    "collapsed": true
   },
   "outputs": [],
   "source": [
    "# p. 21\n",
    "import numpy as np\n",
    "import pandas as pd\n",
    "import random"
   ]
  },
  {
   "cell_type": "code",
   "execution_count": 32,
   "metadata": {
    "collapsed": true
   },
   "outputs": [],
   "source": [
    "random.seed(2016)"
   ]
  },
  {
   "cell_type": "code",
   "execution_count": 33,
   "metadata": {
    "collapsed": true
   },
   "outputs": [],
   "source": [
    "sample_size = 50"
   ]
  },
  {
   "cell_type": "code",
   "execution_count": 34,
   "metadata": {
    "collapsed": true
   },
   "outputs": [],
   "source": [
    "samples = random.sample(range(-10000,10000), sample_size)\n",
    "x = pd.Series(samples) / 10000\n",
    "y = x**2"
   ]
  },
  {
   "cell_type": "markdown",
   "metadata": {},
   "source": [
    "## Exploring the Sample Data"
   ]
  },
  {
   "cell_type": "code",
   "execution_count": 35,
   "metadata": {},
   "outputs": [
    {
     "name": "stdout",
     "output_type": "stream",
     "text": [
      "0    0.4758\n",
      "1   -0.1026\n",
      "2    0.7847\n",
      "3    0.7506\n",
      "4   -0.4870\n",
      "5    0.3657\n",
      "6    0.8647\n",
      "7   -0.8361\n",
      "8   -0.4067\n",
      "9   -0.8568\n",
      "dtype: float64\n"
     ]
    }
   ],
   "source": [
    "print x.head(10)"
   ]
  },
  {
   "cell_type": "code",
   "execution_count": 36,
   "metadata": {},
   "outputs": [
    {
     "name": "stdout",
     "output_type": "stream",
     "text": [
      "0    0.226386\n",
      "1    0.010527\n",
      "2    0.615754\n",
      "3    0.563400\n",
      "4    0.237169\n",
      "5    0.133736\n",
      "6    0.747706\n",
      "7    0.699063\n",
      "8    0.165405\n",
      "9    0.734106\n",
      "dtype: float64\n"
     ]
    }
   ],
   "source": [
    "print y.head(10)"
   ]
  },
  {
   "cell_type": "markdown",
   "metadata": {},
   "source": [
    "#### Visualize the Data"
   ]
  },
  {
   "cell_type": "code",
   "execution_count": 37,
   "metadata": {
    "collapsed": true,
    "scrolled": false
   },
   "outputs": [],
   "source": [
    "# Figure 2.4 (p. 24)\n",
    "%matplotlib inline\n",
    "import matplotlib\n",
    "import matplotlib.pyplot as plt\n",
    "matplotlib.style.use('ggplot')\n",
    "plt.rcParams['figure.figsize'] = (8,6)"
   ]
  },
  {
   "cell_type": "code",
   "execution_count": 38,
   "metadata": {},
   "outputs": [
    {
     "data": {
      "image/png": "[encoded data removed]",
      "text/plain": [
       "<matplotlib.figure.Figure at 0x7f3096c5be10>"
      ]
     },
     "metadata": {},
     "output_type": "display_data"
    }
   ],
   "source": [
    "# Line of the equation\n",
    "xs = np.linspace(-1.0,1.0, 1000)\n",
    "ys = xs**2\n",
    "plt.plot(xs, ys, \"-\", label=\"$y=x^2$\", color=\"black\", linewidth='0.5')\n",
    "\n",
    "# Generated Samples\n",
    "plt.plot(x.tolist(), y.tolist(), \"o\", label=\"simulated\", color=\"red\")\n",
    "\n",
    "plt.title(\"Figure 2.4: Plot of $y=x^2$ simulated data\")\n",
    "plt.xlabel(\"$x$\")\n",
    "plt.ylabel(\"$y$\")\n",
    "plt.legend()\n",
    "plt.show()"
   ]
  },
  {
   "cell_type": "code",
   "execution_count": 39,
   "metadata": {},
   "outputs": [
    {
     "name": "stdout",
     "output_type": "stream",
     "text": [
      "count    50.000000\n",
      "mean     -0.100928\n",
      "std       0.534392\n",
      "min      -0.937000\n",
      "25%      -0.562275\n",
      "50%      -0.098400\n",
      "75%       0.359750\n",
      "max       0.864700\n",
      "dtype: float64\n"
     ]
    }
   ],
   "source": [
    "print x.describe()"
   ]
  },
  {
   "cell_type": "markdown",
   "metadata": {},
   "source": [
    "### QUESTION: How will we use this data?"
   ]
  },
  {
   "cell_type": "markdown",
   "metadata": {},
   "source": [
    "## Translating Sample Data into a Suitable Format"
   ]
  },
  {
   "cell_type": "markdown",
   "metadata": {},
   "source": [
    "Since the `neuralpy` will be used in this example, we need to create a `dataSet` object, which has this general structure:\n",
    "\n",
    "```\n",
    "[([x1],[y1]),\n",
    " ([x2],[y2]),\n",
    " ...,\n",
    " ([x_n],[y_n])]\n",
    "```"
   ]
  },
  {
   "cell_type": "code",
   "execution_count": 102,
   "metadata": {},
   "outputs": [
    {
     "name": "stdout",
     "output_type": "stream",
     "text": [
      "Working on data item: 01   x=+0.4758  y=0.2264\n",
      "Working on data item: 02   x=-0.1026  y=0.0105\n",
      "Working on data item: 03   x=+0.7847  y=0.6158\n",
      "Working on data item: 04   x=+0.7506  y=0.5634\n",
      "Working on data item: 05   x=-0.4870  y=0.2372\n",
      "Working on data item: 06   x=+0.3657  y=0.1337\n",
      "Working on data item: 07   x=+0.8647  y=0.7477\n",
      "Working on data item: 08   x=-0.8361  y=0.6991\n",
      "Working on data item: 09   x=-0.4067  y=0.1654\n",
      "Working on data item: 10   x=-0.8568  y=0.7341\n",
      "Working on data item: 11   x=-0.0265  y=0.0007\n",
      "Working on data item: 12   x=-0.0539  y=0.0029\n",
      "Working on data item: 13   x=-0.4015  y=0.1612\n",
      "Working on data item: 14   x=-0.6901  y=0.4762\n",
      "Working on data item: 15   x=-0.5783  y=0.3344\n",
      "Working on data item: 16   x=-0.5834  y=0.3404\n",
      "Working on data item: 17   x=-0.6630  y=0.4396\n",
      "Working on data item: 18   x=-0.0942  y=0.0089\n",
      "Working on data item: 19   x=+0.4216  y=0.1777\n",
      "Working on data item: 20   x=+0.2576  y=0.0664\n",
      "Working on data item: 21   x=-0.5142  y=0.2644\n",
      "Working on data item: 22   x=+0.2167  y=0.0470\n",
      "Working on data item: 23   x=+0.7212  y=0.5201\n",
      "Working on data item: 24   x=+0.5461  y=0.2982\n",
      "Working on data item: 25   x=-0.9324  y=0.8694\n",
      "Working on data item: 26   x=+0.1362  y=0.0186\n",
      "Working on data item: 27   x=-0.6049  y=0.3659\n",
      "Working on data item: 28   x=-0.3650  y=0.1332\n",
      "Working on data item: 29   x=+0.2513  y=0.0632\n",
      "Working on data item: 30   x=-0.8546  y=0.7303\n",
      "Working on data item: 31   x=+0.5286  y=0.2794\n",
      "Working on data item: 32   x=-0.8062  y=0.6500\n",
      "Working on data item: 33   x=+0.0598  y=0.0036\n",
      "Working on data item: 34   x=-0.9370  y=0.8780\n",
      "Working on data item: 35   x=+0.1664  y=0.0277\n",
      "Working on data item: 36   x=+0.7266  y=0.5279\n",
      "Working on data item: 37   x=-0.2977  y=0.0886\n",
      "Working on data item: 38   x=+0.3419  y=0.1169\n",
      "Working on data item: 39   x=-0.2858  y=0.0817\n",
      "Working on data item: 40   x=-0.2190  y=0.0480\n",
      "Working on data item: 41   x=+0.0541  y=0.0029\n",
      "Working on data item: 42   x=-0.4914  y=0.2415\n",
      "Working on data item: 43   x=+0.4218  y=0.1779\n",
      "Working on data item: 44   x=-0.2745  y=0.0754\n",
      "Working on data item: 45   x=+0.5425  y=0.2943\n",
      "Working on data item: 46   x=-0.6335  y=0.4013\n",
      "Working on data item: 47   x=-0.3994  y=0.1595\n",
      "Working on data item: 48   x=-0.8763  y=0.7679\n",
      "Working on data item: 49   x=+0.4588  y=0.2105\n",
      "Working on data item: 50   x=+0.1329  y=0.0177\n"
     ]
    }
   ],
   "source": [
    "# NOTE\n",
    "# using .ix[] as in the book is depreciated\n",
    "# use .iloc[] instead for number based indexing\n",
    "   \n",
    "count = 0\n",
    "dataSet = list()\n",
    "while count < sample_size:\n",
    "    dataSet.append( ([x.iloc[count]], [y.iloc[count]]) )\n",
    "    print \"Working on data item: {:02d}   x={:+0.4f}  y={:0.4f}\".format(count+1, dataSet[count][0][0], dataSet[count][1][0])\n",
    "    count += 1\n",
    "\n",
    "# PYTHON 2.7\n",
    "# If you know Python well, then this is nicer!\n",
    "# dataSet = [ ([xi],[yi]) for xi,yi in zip(x,y) ]\n",
    "# for (xs, ys) in dataSet:\n",
    "#     print \"Working on data item: {:02d}   x={:+0.4f}  y={:0.4f}\".format(dataSet.index((xs,ys)) + 1, xs[0], ys[0])"
   ]
  },
  {
   "cell_type": "markdown",
   "metadata": {},
   "source": [
    "## A Super Easy Deep Neural Network Python Tool"
   ]
  },
  {
   "cell_type": "code",
   "execution_count": 103,
   "metadata": {
    "collapsed": true
   },
   "outputs": [],
   "source": [
    "# CHECKING THE VERSION OF PYTHON BEING USED\n",
    "import sys\n",
    "assert(sys.version[0] == '2' and sys.version[2] == '7')"
   ]
  },
  {
   "cell_type": "markdown",
   "metadata": {},
   "source": [
    "We will create a Deep Neural Network as shown in Figure 2.5 (p. 27)"
   ]
  },
  {
   "cell_type": "code",
   "execution_count": 104,
   "metadata": {
    "collapsed": true
   },
   "outputs": [],
   "source": [
    "import neuralpy\n",
    "# Layer      Nodes\n",
    "# Input          1\n",
    "# Hidden_1       3\n",
    "# Hidden_2       7\n",
    "# Output         1\n",
    "fit = neuralpy.Network(1, 3, 7, 1)\n",
    "fit2 = neuralpy.Network(1, 3, 7, 1)\n",
    "fit3 = neuralpy.Network(1, 3, 7, 1)"
   ]
  },
  {
   "cell_type": "code",
   "execution_count": 105,
   "metadata": {
    "collapsed": true
   },
   "outputs": [],
   "source": [
    "# epochs = 100       # learning iterations\n",
    "epochs = 50\n",
    "learning_rate = 1  # for gradient descent"
   ]
  },
  {
   "cell_type": "markdown",
   "metadata": {},
   "source": [
    "Now we will use the generated samples in our `dataSet` object to __train__ the network"
   ]
  },
  {
   "cell_type": "code",
   "execution_count": 106,
   "metadata": {},
   "outputs": [
    {
     "name": "stdout",
     "output_type": "stream",
     "text": [
      "Fitting model right now...\n"
     ]
    }
   ],
   "source": [
    "print \"Fitting model right now...\"\n",
    "fit.train(dataSet, epochs, learning_rate*0.1)\n",
    "fit2.train(dataSet, epochs, learning_rate)\n",
    "fit3.train(dataSet, epochs, learning_rate*10)"
   ]
  },
  {
   "cell_type": "markdown",
   "metadata": {},
   "source": [
    "## Assessing Model Performance\n",
    "\n",
    "Now that we have fitted a model with the training data, let's try making some predictions!"
   ]
  },
  {
   "cell_type": "code",
   "execution_count": 107,
   "metadata": {},
   "outputs": [],
   "source": [
    "count = 0\n",
    "pred = list()\n",
    "pred2 = list()\n",
    "pred3 = list()\n",
    "\n",
    "while count < sample_size:\n",
    "    out = fit.forward(x[count])\n",
    "    out2 = fit2.forward(x[count])\n",
    "    out3 = fit3.forward(x[count])\n",
    "#     print \"Obs {:02d}:  y={:0.4f}  pred={:0.4f}  err={:+0.4f}\".format(count+1, y[count], out[0], y[count] - out[0])\n",
    "    pred.append(out[0])\n",
    "    pred2.append(out2[0])\n",
    "    pred3.append(out3[0])\n",
    "\n",
    "    count += 1"
   ]
  },
  {
   "cell_type": "markdown",
   "metadata": {},
   "source": [
    "## Visualize the Results"
   ]
  },
  {
   "cell_type": "code",
   "execution_count": 110,
   "metadata": {},
   "outputs": [
    {
     "data": {
      "image/png": "[encoded data removed]",
      "text/plain": [
       "<matplotlib.figure.Figure at 0x7f3094e0c110>"
      ]
     },
     "metadata": {},
     "output_type": "display_data"
    }
   ],
   "source": [
    "%matplotlib inline\n",
    "plt.rcParams['figure.figsize'] = (8,6)\n",
    "\n",
    "# Line of the equation\n",
    "xs = np.linspace(-1.0,1.0, 100)\n",
    "ys = xs**2\n",
    "plt.plot(xs, ys, \"-\", label=\"$y=x^2$\", color=\"black\")\n",
    "\n",
    "# Predictions\n",
    "plt.plot(x, pred, \".\", label=\"DNN 1\", color=\"red\")\n",
    "plt.plot(x, pred2, \".\", label=\"DNN 2\", color=\"blue\")\n",
    "plt.plot(x, pred3, \".\", label=\"DNN 3\", color=\"green\")\n",
    "\n",
    "# Observed values\n",
    "# plt.plot(x.values.tolist(), y.tolist(), \"o\", label=\"DNN train\", color = \"blue\")\n",
    "\n",
    "plt.title(\"Figure 2.6: Predicted values of $y=x^2$ using $\\mathtt{neuralpy}$\")\n",
    "plt.xlabel(\"$x$\")\n",
    "plt.ylabel(\"$y$\")\n",
    "plt.legend()\n",
    "plt.show()"
   ]
  },
  {
   "cell_type": "markdown",
   "metadata": {
    "collapsed": true
   },
   "source": [
    "### QUESTIONS\n",
    "\n",
    "+ Did you get the same results as above? Why or why not?\n",
    "+ Do you know what the model is?\n",
    "+ How could we improve the results of the network?"
   ]
  }
 ],
 "metadata": {
  "kernelspec": {
   "display_name": "Python 2",
   "language": "python",
   "name": "python2"
  },
  "language_info": {
   "codemirror_mode": {
    "name": "ipython",
    "version": 2
   },
   "file_extension": ".py",
   "mimetype": "text/x-python",
   "name": "python",
   "nbconvert_exporter": "python",
   "pygments_lexer": "ipython2",
   "version": "2.7.12"
  }
 },
 "nbformat": 4,
 "nbformat_minor": 1
}
