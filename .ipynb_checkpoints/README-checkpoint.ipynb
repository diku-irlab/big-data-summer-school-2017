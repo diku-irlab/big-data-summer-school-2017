{
 "cells": [
  {
   "cell_type": "markdown",
   "metadata": {},
   "source": [
    "# DEEP LEARNING FOR DATA ANALYTICS\n",
    "__Copenhagen Summer University, 21-25 August 2017__\n",
    "\n",
    "Frederiksberg Campus  \n",
    "Bülowsvej 17  \n",
    "1870 Frederiksberg  \n",
    "Denmark\n",
    "\n",
    "http://www.big-data.dk/csu/"
   ]
  },
  {
   "cell_type": "markdown",
   "metadata": {},
   "source": [
    "# Getting Started\n",
    "One of the texts used during this course is:\n",
    "\n",
    "__Deep Time Series Forecasting with Python__  \n",
    "An Intuitive Introduction to Deep Learning for Applied Time Series Modeling  \n",
    "by N.D. Lewis  \n",
    "ISBN-13: 978-1540809087\n",
    "\n",
    "This section covers the general assumptions made about which programming languages and support modules are to be used when attempting to perform the exercises in each chapter. If you want to run these scripts on your own computer, then you will need to install the following:\n",
    "\n",
    "__Python 2.7__  \n",
    "As mentioned in the beginning of the book, all the code presented is intended to work with Python 2, specifically Python 2.7.11. Therefore, we also suggest that you use this or some later version of Python 2.7.\n",
    "\n",
    "If you are new to Python, try installing a Python distributions called `anaconda` to get started. Use the following link to find a [download option for your operating system](https://www.continuum.io/downloads). We highly recommend using `anaconda` as it will make it easier to install the support modules need to follow the exercises from the text book.\n",
    "\n",
    "Furthermore, the exercises in the book use a number of support models. Some support models such as `matplotlib`, `numpy`, `pandas`, `scipy`, and `scikit-learn` are already included in `anaconda`, however others are not. Below is a collection of links where you can find download and installation instructions for the required support modules not included in `anaconda`.\n",
    "\n",
    "\n",
    "__Keras__ is a high-level neural networks API, written in Python and capable of running on top of TensorFlow, CNTK, or Theano. To install `Keras` you can either [read and follow the instructions from the documentation](https://keras.io/#installation) or instead you can try the following `pip` command:\n",
    "\n",
    "`    sudo pip install keras`\n",
    "\n",
    "\n",
    "__Theano__ is a Python library that allows you to define, optimize, and evaluate mathematical expressions involving multi-dimensional arrays efficiently. To install `Theano` please read the documentation for installation on your operating system [here](http://deeplearning.net/software/theano/install.html). However, most of you should be able to use the following `conda` command to install `Theano`.\n",
    "\n",
    "`    conda install theano pypgu`\n",
    "\n",
    "\n",
    "__nnet-ts__ is a neural network architecture for time series forecasting. This packages relies heavily on `numpy`, `scipy`, `pandas`, `theano` and `keras`. Check on their repositories how to install them first. Then, simply fetch the package using `pip`:\n",
    "\n",
    "`    sudo pip install nnet-ts`\n",
    "\n",
    "Otherwise, you can get the module from GitHub [here](https://github.com/hawk31/nnet-ts).\n",
    "\n",
    "\n",
    "__pyneurgen__ provides libraries for use in Python programs to build hybrids of neural networks and genetic algorithms and/or genetic programming. If you are using `anaconda` then you should be able to use the following command to install `pyneurgen`:\n",
    "\n",
    "`    sudo pip install pyneurgen`\n",
    "\n",
    "Otherwise, you can get the module [here](https://pypi.python.org/pypi/pyneurgen/0.3.0).\n",
    "\n",
    "\n",
    "### NOTICE \n",
    "Since random numbers are involved in many of the examples below, the exact results from the book may or may not be reproduced in this worksheet, since that would require the same versions of Python and each of the Python libraries. However, as we will see, the exact results are not necessary to show that the code produces the expected results!"
   ]
  }
 ],
 "metadata": {
  "kernelspec": {
   "display_name": "Python 2",
   "language": "python",
   "name": "python2"
  },
  "language_info": {
   "codemirror_mode": {
    "name": "ipython",
    "version": 2
   },
   "file_extension": ".py",
   "mimetype": "text/x-python",
   "name": "python",
   "nbconvert_exporter": "python",
   "pygments_lexer": "ipython2",
   "version": "2.7.13"
  }
 },
 "nbformat": 4,
 "nbformat_minor": 0
}
