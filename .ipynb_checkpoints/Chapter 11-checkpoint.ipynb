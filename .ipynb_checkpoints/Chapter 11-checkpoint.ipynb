{
 "cells": [
  {
   "cell_type": "markdown",
   "metadata": {
    "collapsed": true
   },
   "source": [
    "# Chapter 11 - Forecasting Multiple Outputs\n",
    "\n",
    "_pg. 155-168_\n",
    "\n",
    "## Working with Zipped Files"
   ]
  },
  {
   "cell_type": "code",
   "execution_count": 1,
   "metadata": {
    "collapsed": false
   },
   "outputs": [],
   "source": [
    "import numpy as np\n",
    "import pandas as pd\n",
    "import urllib\n",
    "import zipfile\n",
    "\n",
    "url = \"http://www.economicswebinstitute.org/data/stockindexes.zip\"\n",
    "\n",
    "# ATTN: you need to redefine these lines according to your system\n",
    "loc = \"/home/dpindk/irlab/big-data-summer-school-2017/stockindexes.zip\"\n",
    "dest_location = \"/home/dpindk/irlab/big-data-summer-school-2017/\"\n",
    "\n",
    "# ATTN: this line is missing in the book!!!\n",
    "urllib.urlretrieve(url, loc)\n",
    "\n",
    "unzip = zipfile.ZipFile(loc, 'r')\n",
    "unzip.extractall(dest_location)\n",
    "unzip.close()"
   ]
  },
  {
   "cell_type": "markdown",
   "metadata": {},
   "source": [
    "## Extraction of Spreadsheet Data"
   ]
  },
  {
   "cell_type": "code",
   "execution_count": 2,
   "metadata": {
    "collapsed": false
   },
   "outputs": [
    {
     "name": "stdout",
     "output_type": "stream",
     "text": [
      "Description\n",
      "Dow Jones Industrial\n",
      "S&P500\n",
      "NIKKEI 300\n",
      "Dax30\n",
      "CAC40\n",
      "Swiss Market-Price Index\n",
      "Mib30\n",
      "IBEX 35I\n",
      "Bel20\n",
      "FTSE100\n"
     ]
    }
   ],
   "source": [
    "loc = \"/home/dpindk/irlab/big-data-summer-school-2017/stockindexes.xls\"\n",
    "Excel_file = pd.ExcelFile(loc)\n",
    "\n",
    "# print Excel_file.sheet_names\n",
    "for name in Excel_file.sheet_names:\n",
    "    print name"
   ]
  },
  {
   "cell_type": "code",
   "execution_count": 3,
   "metadata": {
    "collapsed": false
   },
   "outputs": [],
   "source": [
    "ftse_data = Excel_file.parse(\"FTSE100\")\n",
    "dj_data = Excel_file.parse(\"Dow Jones Industrial\")"
   ]
  },
  {
   "cell_type": "code",
   "execution_count": 4,
   "metadata": {
    "collapsed": false
   },
   "outputs": [
    {
     "name": "stdout",
     "output_type": "stream",
     "text": [
      "                 Start     1995-11-30 00:00:00\n",
      "0                  End     2000-02-18 00:00:00\n",
      "1            Frequency                       D\n",
      "2                 Name  FTSE 100 - PRICE INDEX\n",
      "3                 Code                 FTSE100\n",
      "4  1995-11-30 00:00:00                  3664.3\n"
     ]
    }
   ],
   "source": [
    "print ftse_data.head()"
   ]
  },
  {
   "cell_type": "code",
   "execution_count": 5,
   "metadata": {
    "collapsed": false
   },
   "outputs": [
    {
     "name": "stdout",
     "output_type": "stream",
     "text": [
      "                 Start                  1995-11-30 00:00:00\n",
      "0                  End                  2000-02-18 00:00:00\n",
      "1            Frequency                                    D\n",
      "2                 Name  DOW JONES INDUSTRIALS - PRICE INDEX\n",
      "3                 Code                              DJINDUS\n",
      "4  1995-11-30 00:00:00                              5074.49\n"
     ]
    }
   ],
   "source": [
    "print dj_data.head()"
   ]
  },
  {
   "cell_type": "code",
   "execution_count": 6,
   "metadata": {
    "collapsed": true
   },
   "outputs": [],
   "source": [
    "ftse100 = ftse_data.iloc[4:1357, 1]\n",
    "dj = dj_data.iloc[4:1357, 1]"
   ]
  },
  {
   "cell_type": "markdown",
   "metadata": {},
   "source": [
    "## Check Data Values"
   ]
  },
  {
   "cell_type": "code",
   "execution_count": 7,
   "metadata": {
    "collapsed": false
   },
   "outputs": [
    {
     "name": "stdout",
     "output_type": "stream",
     "text": [
      "4    3664.3\n",
      "5    3680.4\n",
      "6    3669.7\n",
      "7    3664.2\n",
      "8    3662.8\n",
      "Name: 1995-11-30 00:00:00, dtype: object\n"
     ]
    }
   ],
   "source": [
    "print ftse100.head()"
   ]
  },
  {
   "cell_type": "code",
   "execution_count": 8,
   "metadata": {
    "collapsed": false
   },
   "outputs": [
    {
     "name": "stdout",
     "output_type": "stream",
     "text": [
      "1352    6334.53\n",
      "1353    6297.53\n",
      "1354    6251.83\n",
      "1355    6256.43\n",
      "1356    6269.21\n",
      "Name: 1995-11-30 00:00:00, dtype: object\n"
     ]
    }
   ],
   "source": [
    "print ftse100.tail()"
   ]
  },
  {
   "cell_type": "code",
   "execution_count": 9,
   "metadata": {
    "collapsed": false
   },
   "outputs": [
    {
     "name": "stdout",
     "output_type": "stream",
     "text": [
      "4    5074.49\n",
      "5    5087.13\n",
      "6    5139.52\n",
      "7    5177.45\n",
      "8    5199.13\n",
      "Name: 1995-11-30 00:00:00, dtype: object\n"
     ]
    }
   ],
   "source": [
    "print dj.head()"
   ]
  },
  {
   "cell_type": "code",
   "execution_count": 10,
   "metadata": {
    "collapsed": false
   },
   "outputs": [
    {
     "name": "stdout",
     "output_type": "stream",
     "text": [
      "1352    10881.2\n",
      "1353    10887.4\n",
      "1354    10983.6\n",
      "1355    10864.1\n",
      "1356    10965.9\n",
      "Name: 1995-11-30 00:00:00, dtype: object\n"
     ]
    }
   ],
   "source": [
    "print dj.tail()"
   ]
  },
  {
   "cell_type": "markdown",
   "metadata": {},
   "source": [
    "## How to Work with Multiple Targets"
   ]
  },
  {
   "cell_type": "code",
   "execution_count": 11,
   "metadata": {
    "collapsed": false
   },
   "outputs": [
    {
     "name": "stdout",
     "output_type": "stream",
     "text": [
      "  1995-11-30 1995-11-30\n",
      "4     3664.3    5074.49\n",
      "5     3680.4    5087.13\n",
      "6     3669.7    5139.52\n",
      "7     3664.2    5177.45\n",
      "8     3662.8    5199.13\n"
     ]
    }
   ],
   "source": [
    "yt = pd.concat([ftse100, dj], axis=1)\n",
    "print yt.head()"
   ]
  },
  {
   "cell_type": "code",
   "execution_count": 12,
   "metadata": {
    "collapsed": false
   },
   "outputs": [
    {
     "name": "stdout",
     "output_type": "stream",
     "text": [
      "  ftse100       dj\n",
      "0  3664.3  5074.49\n",
      "1  3680.4  5087.13\n",
      "2  3669.7  5139.52\n",
      "3  3664.2  5177.45\n",
      "4  3662.8  5199.13\n"
     ]
    }
   ],
   "source": [
    "yt = yt.reset_index(drop=True)\n",
    "yt.columns = ['ftse100', 'dj']\n",
    "print yt.head()"
   ]
  },
  {
   "cell_type": "code",
   "execution_count": 13,
   "metadata": {
    "collapsed": true
   },
   "outputs": [],
   "source": [
    "yt = yt.pct_change(1)\n",
    "win = 30\n",
    "vol_t = yt.rolling(window=win, center=True).std()"
   ]
  },
  {
   "cell_type": "code",
   "execution_count": 14,
   "metadata": {
    "collapsed": false
   },
   "outputs": [],
   "source": [
    "# Add plot here"
   ]
  },
  {
   "cell_type": "markdown",
   "metadata": {},
   "source": [
    "## Creation of Hand Crafted Features"
   ]
  },
  {
   "cell_type": "code",
   "execution_count": 15,
   "metadata": {
    "collapsed": true
   },
   "outputs": [],
   "source": [
    "x1 = np.log((vol_t.shift(1) / vol_t.shift(2)) * vol_t.shift(1))\n",
    "x2 = np.log((vol_t.shift(1) / vol_t.shift(3)) * vol_t.shift(1))\n",
    "x3 = np.log((vol_t.shift(1) / vol_t.shift(4)) * vol_t.shift(1))\n",
    "x4 = np.log((vol_t.shift(1) / vol_t.shift(5)) * vol_t.shift(1))\n",
    "x5 = np.log((vol_t.shift(1) / vol_t.shift(6)) * vol_t.shift(1))"
   ]
  },
  {
   "cell_type": "code",
   "execution_count": 16,
   "metadata": {
    "collapsed": false
   },
   "outputs": [],
   "source": [
    "data = pd.concat([vol_t, x1, x2, x3, x4, x5], axis=1)\n",
    "data.columns = ['ftse_t', 'dj_t',\n",
    "                'ftse_t-1', 'dj_t-1',\n",
    "                'ftse_t-2', 'dj_t-2',\n",
    "                'ftse_t-3', 'dj_t-3',\n",
    "                'ftse_t-4', 'dj_t-4',\n",
    "                'ftse_t-5', 'dj_t-5',]\n",
    "data = data.dropna()"
   ]
  },
  {
   "cell_type": "markdown",
   "metadata": {},
   "source": [
    "## Target and Features in One Place"
   ]
  },
  {
   "cell_type": "code",
   "execution_count": 17,
   "metadata": {
    "collapsed": true
   },
   "outputs": [],
   "source": [
    "cols_y = ['ftse_t', 'dj_t']\n",
    "y = data[cols_y]\n",
    "cols = ['ftse_t-1', 'dj_t-1',\n",
    "        'ftse_t-2', 'dj_t-2',\n",
    "        'ftse_t-3', 'dj_t-3',\n",
    "        'ftse_t-4', 'dj_t-4',\n",
    "        'ftse_t-5', 'dj_t-5',]\n",
    "x = data[cols]"
   ]
  },
  {
   "cell_type": "markdown",
   "metadata": {},
   "source": [
    "## Scaling Data"
   ]
  },
  {
   "cell_type": "code",
   "execution_count": 18,
   "metadata": {
    "collapsed": true
   },
   "outputs": [],
   "source": [
    "from sklearn import preprocessing\n",
    "num_attrib = 10\n",
    "scaler_x = preprocessing.MinMaxScaler(feature_range=(-1,1))\n",
    "x = np.array(x).reshape((len(x), num_attrib))\n",
    "x = scaler_x.fit_transform(x)\n",
    "\n",
    "num_response = 2\n",
    "\n",
    "scaler_y = preprocessing.MinMaxScaler(feature_range=(0,1))\n",
    "y = np.array(y).reshape((len(y), num_response))\n",
    "y = scaler_y.fit_transform(y)"
   ]
  },
  {
   "cell_type": "markdown",
   "metadata": {},
   "source": [
    "## Train and Test Sets"
   ]
  },
  {
   "cell_type": "code",
   "execution_count": 19,
   "metadata": {
    "collapsed": false
   },
   "outputs": [],
   "source": [
    "train_end = 1131\n",
    "data_end = len(y)\n",
    "x_train = x[0:train_end, ]\n",
    "x_test = x[train_end + 1:data_end, ]\n",
    "y_train = y[0:train_end]\n",
    "y_test = y[train_end + 1:data_end]\n",
    "x_train = np.reshape(x_train, (x_train.shape[0], 1, x_train.shape[1]))\n",
    "x_test = np.reshape(x_test, (x_test.shape[0], 1, x_test.shape[1]))"
   ]
  },
  {
   "cell_type": "code",
   "execution_count": 20,
   "metadata": {
    "collapsed": false
   },
   "outputs": [
    {
     "name": "stdout",
     "output_type": "stream",
     "text": [
      "Shape of x_train is  (1131, 1, 10)\n"
     ]
    }
   ],
   "source": [
    "print \"Shape of x_train is \", x_train.shape"
   ]
  },
  {
   "cell_type": "code",
   "execution_count": 21,
   "metadata": {
    "collapsed": false
   },
   "outputs": [
    {
     "name": "stdout",
     "output_type": "stream",
     "text": [
      "Shape of x_test is  (185, 1, 10)\n"
     ]
    }
   ],
   "source": [
    "print \"Shape of x_test is \", x_test.shape"
   ]
  },
  {
   "cell_type": "markdown",
   "metadata": {},
   "source": [
    "## Model Specification and Fit"
   ]
  },
  {
   "cell_type": "code",
   "execution_count": 22,
   "metadata": {
    "collapsed": false
   },
   "outputs": [
    {
     "name": "stderr",
     "output_type": "stream",
     "text": [
      "Using Theano backend.\n"
     ]
    }
   ],
   "source": [
    "from keras.models import Sequential\n",
    "from keras.layers.core import Dense, Activation\n",
    "from keras.layers.recurrent import SimpleRNN\n",
    "from keras.optimizers import SGD"
   ]
  },
  {
   "cell_type": "code",
   "execution_count": 23,
   "metadata": {
    "collapsed": false
   },
   "outputs": [
    {
     "name": "stdout",
     "output_type": "stream",
     "text": [
      "Epoch 1/20\n",
      "1131/1131 [==============================] - 0s - loss: 0.0070     \n",
      "Epoch 2/20\n",
      "1131/1131 [==============================] - 0s - loss: 0.0034     \n",
      "Epoch 3/20\n",
      "1131/1131 [==============================] - 0s - loss: 0.0032     \n",
      "Epoch 4/20\n",
      "1131/1131 [==============================] - 0s - loss: 0.0029     \n",
      "Epoch 5/20\n",
      "1131/1131 [==============================] - 0s - loss: 0.0028     \n",
      "Epoch 6/20\n",
      "1131/1131 [==============================] - 0s - loss: 0.0025     \n",
      "Epoch 7/20\n",
      "1131/1131 [==============================] - 0s - loss: 0.0023     \n",
      "Epoch 8/20\n",
      "1131/1131 [==============================] - 0s - loss: 0.0022     \n",
      "Epoch 9/20\n",
      "1131/1131 [==============================] - 0s - loss: 0.0020     \n",
      "Epoch 10/20\n",
      "1131/1131 [==============================] - 0s - loss: 0.0019     \n",
      "Epoch 11/20\n",
      "1131/1131 [==============================] - 0s - loss: 0.0018     \n",
      "Epoch 12/20\n",
      "1131/1131 [==============================] - 0s - loss: 0.0018     \n",
      "Epoch 13/20\n",
      "1131/1131 [==============================] - 0s - loss: 0.0017     \n",
      "Epoch 14/20\n",
      "1131/1131 [==============================] - 0s - loss: 0.0017     \n",
      "Epoch 15/20\n",
      "1131/1131 [==============================] - 0s - loss: 0.0016     \n",
      "Epoch 16/20\n",
      "1131/1131 [==============================] - 0s - loss: 0.0015     \n",
      "Epoch 17/20\n",
      "1131/1131 [==============================] - 0s - loss: 0.0015     \n",
      "Epoch 18/20\n",
      "1131/1131 [==============================] - 0s - loss: 0.0015     \n",
      "Epoch 19/20\n",
      "1131/1131 [==============================] - 0s - loss: 0.0014     \n",
      "Epoch 20/20\n",
      "1131/1131 [==============================] - 0s - loss: 0.0014     \n"
     ]
    },
    {
     "data": {
      "text/plain": [
       "<keras.callbacks.History at 0x7f74e12b41d0>"
      ]
     },
     "execution_count": 23,
     "metadata": {},
     "output_type": "execute_result"
    }
   ],
   "source": [
    "seed = 2016\n",
    "num_epochs=20\n",
    "np.random.seed(seed)\n",
    "fit1 = Sequential()\n",
    "# UPDATED\n",
    "# fit1.add(SimpleRNN(output_dim=10, activation='sigmoid', input_shape=(1, num_attrib)))\n",
    "fit1.add(SimpleRNN(units=10, activation='sigmoid', input_shape=(1, num_attrib)))\n",
    "# UPDATED\n",
    "# fit1.add(Dense(output_dim=num_response, activation='linear'))\n",
    "fit1.add(Dense(units=num_response, activation='linear'))\n",
    "sgd = SGD(lr=0.01, momentum=0.90, nesterov=True)\n",
    "fit1.compile(loss='mean_squared_error', optimizer=sgd)\n",
    "fit1.fit(x_train, y_train, batch_size=1, epochs=num_epochs)"
   ]
  },
  {
   "cell_type": "code",
   "execution_count": 24,
   "metadata": {
    "collapsed": false
   },
   "outputs": [
    {
     "name": "stdout",
     "output_type": "stream",
     "text": [
      "  1/185 [..............................] - ETA: 0s\n",
      "in train  MSE =  0.00132\n",
      "in test   MSE =  0.00105\n"
     ]
    }
   ],
   "source": [
    "score_train = fit1.evaluate(x_train, y_train, batch_size=1)\n",
    "score_test = fit1.evaluate(x_test, y_test, batch_size=1)\n",
    "print \n",
    "print \"in train  MSE = \", round(score_train, 5)\n",
    "print \"in test   MSE = \", round(score_test, 5)"
   ]
  },
  {
   "cell_type": "code",
   "execution_count": 25,
   "metadata": {
    "collapsed": false
   },
   "outputs": [],
   "source": [
    "pred1 = fit1.predict(x_test)\n",
    "pred1 = scaler_y.inverse_transform(np.array(pred1).reshape((len(pred1), 2)))"
   ]
  },
  {
   "cell_type": "code",
   "execution_count": 26,
   "metadata": {
    "collapsed": true
   },
   "outputs": [],
   "source": [
    "# add plot here"
   ]
  }
 ],
 "metadata": {
  "kernelspec": {
   "display_name": "Python 2",
   "language": "python",
   "name": "python2"
  },
  "language_info": {
   "codemirror_mode": {
    "name": "ipython",
    "version": 2
   },
   "file_extension": ".py",
   "mimetype": "text/x-python",
   "name": "python",
   "nbconvert_exporter": "python",
   "pygments_lexer": "ipython2",
   "version": "2.7.13"
  }
 },
 "nbformat": 4,
 "nbformat_minor": 0
}
