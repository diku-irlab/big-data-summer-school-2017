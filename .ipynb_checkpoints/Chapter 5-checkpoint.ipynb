{
 "cells": [
  {
   "cell_type": "markdown",
   "metadata": {
    "collapsed": true
   },
   "source": [
    "# Chapter 5 - The Simple Recurrent Neural Network\n",
    "\n",
    "_pg. 67-82_"
   ]
  },
  {
   "cell_type": "markdown",
   "metadata": {
    "collapsed": true
   },
   "source": [
    "## Prepare the Sample Data"
   ]
  },
  {
   "cell_type": "code",
   "execution_count": 1,
   "metadata": {
    "collapsed": true
   },
   "outputs": [],
   "source": [
    "import numpy as np\n",
    "import pandas as pd\n",
    "from sklearn import preprocessing\n",
    "\n",
    "loc = \"/home/dpindk/irlab/big-data-summer-school-2017/COE.csv\"\n",
    "temp = pd.read_csv(loc)\n",
    "data = temp.drop(temp.columns [[0,1]], axis=1)\n",
    "\n",
    "y = data[\"COE$\"]\n",
    "\n",
    "x = data.drop(data.columns[[0,4]], axis=1)\n",
    "x = x.apply(np.log)\n",
    "x = pd.concat([x, data[\"Open?\"]], axis=1)\n",
    "\n",
    "scaler_x = preprocessing.MinMaxScaler(feature_range=(0,1))\n",
    "x = np.array(x).reshape((len(x), 4))\n",
    "x = scaler_x.fit_transform(x)\n",
    "\n",
    "scaler_y = preprocessing.MinMaxScaler(feature_range=(0,1))\n",
    "y = np.array(y).reshape((len(y), 1))\n",
    "y = np.log(y)\n",
    "y = scaler_y.fit_transform(y)"
   ]
  },
  {
   "cell_type": "markdown",
   "metadata": {},
   "source": [
    "## Follow this Approach to Create Your Train and Test Sets"
   ]
  },
  {
   "cell_type": "code",
   "execution_count": 2,
   "metadata": {
    "collapsed": true
   },
   "outputs": [],
   "source": [
    "end = len(x) - 1\n",
    "learn_end = int(end * 0.954)\n",
    "x_train = x[0:learn_end - 1, ]\n",
    "x_test = x[learn_end:end - 1, ]\n",
    "y_train = y[1:learn_end]\n",
    "y_test = y[learn_end + 1: end]\n",
    "\n",
    "x_train = x_train.reshape(x_train.shape + (1,))\n",
    "x_test = x_test.reshape(x_test.shape + (1,))"
   ]
  },
  {
   "cell_type": "code",
   "execution_count": 3,
   "metadata": {
    "collapsed": false
   },
   "outputs": [
    {
     "name": "stdout",
     "output_type": "stream",
     "text": [
      "Shape of x_train is  (250, 4, 1)\n"
     ]
    }
   ],
   "source": [
    "print \"Shape of x_train is \", x_train.shape"
   ]
  },
  {
   "cell_type": "code",
   "execution_count": 4,
   "metadata": {
    "collapsed": false
   },
   "outputs": [
    {
     "name": "stdout",
     "output_type": "stream",
     "text": [
      "Shape of x_test is  (12, 4, 1)\n"
     ]
    }
   ],
   "source": [
    "print \"Shape of x_test is \", x_test.shape"
   ]
  },
  {
   "cell_type": "markdown",
   "metadata": {},
   "source": [
    "## Import Keras"
   ]
  },
  {
   "cell_type": "code",
   "execution_count": 5,
   "metadata": {
    "collapsed": false
   },
   "outputs": [
    {
     "name": "stderr",
     "output_type": "stream",
     "text": [
      "Using Theano backend.\n"
     ]
    }
   ],
   "source": [
    "from keras.models import Sequential\n",
    "from keras.optimizers import SGD\n",
    "from keras.layers.core import Dense, Activation\n",
    "from keras.layers.recurrent import SimpleRNN"
   ]
  },
  {
   "cell_type": "markdown",
   "metadata": {},
   "source": [
    "## Determine Model Structure"
   ]
  },
  {
   "cell_type": "code",
   "execution_count": 6,
   "metadata": {
    "collapsed": false
   },
   "outputs": [],
   "source": [
    "seed = 2016\n",
    "np.random.seed(seed)\n",
    "fit1 = Sequential()\n",
    "# UPDATED\n",
    "# fit1.add(SimpleRNN(output_dim=8, activation=\"tanh\", input_shape=(4,1)))\n",
    "fit1.add(SimpleRNN(units=8, activation=\"tanh\", input_shape=(4,1)))\n",
    "# UPDATED\n",
    "# fit1.add(Dense(output_dim=1, activation='linear'))\n",
    "fit1.add(Dense(units=1, activation='linear'))"
   ]
  },
  {
   "cell_type": "markdown",
   "metadata": {},
   "source": [
    "## Choosing the Moment Value"
   ]
  },
  {
   "cell_type": "code",
   "execution_count": 7,
   "metadata": {
    "collapsed": true
   },
   "outputs": [],
   "source": [
    "# uses accelerated gradient descent\n",
    "sgd = SGD(lr=0.0001, momentum=0.95, nesterov=True)\n",
    "fit1.compile(loss='mean_squared_error', optimizer=sgd)"
   ]
  },
  {
   "cell_type": "markdown",
   "metadata": {},
   "source": [
    "## Fitting the Model\n",
    "The model, with a batch size of 10, is fit over 700 epochs as follows:"
   ]
  },
  {
   "cell_type": "code",
   "execution_count": 8,
   "metadata": {
    "collapsed": false
   },
   "outputs": [
    {
     "data": {
      "text/plain": [
       "<keras.callbacks.History at 0x7f1461329490>"
      ]
     },
     "execution_count": 8,
     "metadata": {},
     "output_type": "execute_result"
    }
   ],
   "source": [
    "%%capture\n",
    "fit1.fit(x_train, y_train, batch_size=10, epochs=700)"
   ]
  },
  {
   "cell_type": "code",
   "execution_count": 9,
   "metadata": {
    "collapsed": false
   },
   "outputs": [
    {
     "name": "stdout",
     "output_type": "stream",
     "text": [
      "10/12 [========================>.....] - ETA: 0sin train MSE =  0.003043\n",
      "in test MSE =  0.000757\n"
     ]
    }
   ],
   "source": [
    "score_train = fit1.evaluate(x_train, y_train, batch_size=10)\n",
    "score_test = fit1.evaluate(x_test, y_test, batch_size=10)\n",
    "print \"in train MSE = \", round(score_train, 6)\n",
    "print \"in test MSE = \", round(score_test, 6)"
   ]
  },
  {
   "cell_type": "code",
   "execution_count": 10,
   "metadata": {
    "collapsed": false
   },
   "outputs": [
    {
     "name": "stdout",
     "output_type": "stream",
     "text": [
      "[[ 0.55883271]\n",
      " [ 0.53600138]\n",
      " [ 0.53680229]\n",
      " [ 0.54093546]\n",
      " [ 0.57687551]\n",
      " [ 0.59036571]\n",
      " [ 0.6088571 ]\n",
      " [ 0.58301008]\n",
      " [ 0.56355613]\n",
      " [ 0.55584341]\n",
      " [ 0.58015609]\n",
      " [ 0.58528125]]\n"
     ]
    }
   ],
   "source": [
    "pred1 = fit1.predict(x_test)\n",
    "print pred1"
   ]
  },
  {
   "cell_type": "code",
   "execution_count": 11,
   "metadata": {
    "collapsed": false
   },
   "outputs": [
    {
     "name": "stdout",
     "output_type": "stream",
     "text": [
      "[[ 9.50765705]\n",
      " [ 9.40135479]\n",
      " [ 9.40508461]\n",
      " [ 9.42432785]\n",
      " [ 9.59166431]\n",
      " [ 9.65447426]\n",
      " [ 9.74056816]\n",
      " [ 9.62022591]\n",
      " [ 9.52964878]\n",
      " [ 9.49373913]\n",
      " [ 9.60693836]\n",
      " [ 9.63080025]]\n"
     ]
    }
   ],
   "source": [
    "# apply the inverse transformation to predictions\n",
    "pred1 = scaler_y.inverse_transform(np.array(pred1).reshape((len(pred1), 1)))\n",
    "print pred1"
   ]
  },
  {
   "cell_type": "code",
   "execution_count": 12,
   "metadata": {
    "collapsed": false
   },
   "outputs": [
    {
     "name": "stdout",
     "output_type": "stream",
     "text": [
      "[[ 13462.]\n",
      " [ 12105.]\n",
      " [ 12150.]\n",
      " [ 12386.]\n",
      " [ 14642.]\n",
      " [ 15591.]\n",
      " [ 16993.]\n",
      " [ 15066.]\n",
      " [ 13762.]\n",
      " [ 13276.]\n",
      " [ 14868.]\n",
      " [ 15227.]]\n"
     ]
    }
   ],
   "source": [
    "# undo the initial log transformation of the data\n",
    "pred1 = np.exp(pred1)\n",
    "print np.rint(pred1)"
   ]
  }
 ],
 "metadata": {
  "kernelspec": {
   "display_name": "Python 2",
   "language": "python",
   "name": "python2"
  },
  "language_info": {
   "codemirror_mode": {
    "name": "ipython",
    "version": 2
   },
   "file_extension": ".py",
   "mimetype": "text/x-python",
   "name": "python",
   "nbconvert_exporter": "python",
   "pygments_lexer": "ipython2",
   "version": "2.7.13"
  }
 },
 "nbformat": 4,
 "nbformat_minor": 0
}
