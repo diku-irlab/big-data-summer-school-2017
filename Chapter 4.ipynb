{
 "cells": [
  {
   "cell_type": "markdown",
   "metadata": {
    "collapsed": true
   },
   "source": [
    "# Chapter 4 - A Simple Way to Incorporate Additional Attributes in Your Model\n",
    "\n",
    "_pg. 51-66_"
   ]
  },
  {
   "cell_type": "markdown",
   "metadata": {
    "collapsed": true
   },
   "source": [
    "## Working with Additional Attributes"
   ]
  },
  {
   "cell_type": "code",
   "execution_count": 1,
   "metadata": {
    "collapsed": false
   },
   "outputs": [
    {
     "name": "stdout",
     "output_type": "stream",
     "text": [
      "   Unnamed: 0        DATE     COE$   COE$_1  #Bids  Quota  Open?\n",
      "0           0  1990-08-01   7400.0   7750.0    656    472      0\n",
      "1           1  1990-09-01  11100.0   7400.0   1462    468      0\n",
      "2           2  1990-10-01   5002.0  11100.0    633    472      0\n",
      "3           3  1990-11-01   3170.0   5002.0    952    511      0\n",
      "4           4  1990-12-01   3410.0   3170.0    919    471      0\n"
     ]
    }
   ],
   "source": [
    "import numpy as np\n",
    "import pandas as pd\n",
    "loc = \"/home/dpindk/irlab/big-data-summer-school-2017/COE.csv\"\n",
    "temp = pd.read_csv(loc)\n",
    "print temp.head()"
   ]
  },
  {
   "cell_type": "code",
   "execution_count": 2,
   "metadata": {
    "collapsed": false
   },
   "outputs": [
    {
     "name": "stdout",
     "output_type": "stream",
     "text": [
      "      COE$   COE$_1  #Bids  Quota  Open?\n",
      "0   7400.0   7750.0    656    472      0\n",
      "1  11100.0   7400.0   1462    468      0\n",
      "2   5002.0  11100.0    633    472      0\n",
      "3   3170.0   5002.0    952    511      0\n",
      "4   3410.0   3170.0    919    471      0\n"
     ]
    }
   ],
   "source": [
    "data = temp.drop(temp.columns[[0,1]], axis=1)\n",
    "print data.head()"
   ]
  },
  {
   "cell_type": "markdown",
   "metadata": {},
   "source": [
    "## Data Processing"
   ]
  },
  {
   "cell_type": "code",
   "execution_count": 3,
   "metadata": {
    "collapsed": true
   },
   "outputs": [],
   "source": [
    "y = data['COE$']\n",
    "x = data.drop(data.columns[[0,4]], axis=1)\n",
    "x = x.apply(np.log)\n",
    "x = pd.concat([x,data['Open?']], axis=1)"
   ]
  },
  {
   "cell_type": "code",
   "execution_count": 4,
   "metadata": {
    "collapsed": false
   },
   "outputs": [
    {
     "name": "stdout",
     "output_type": "stream",
     "text": [
      "     COE$_1     #Bids     Quota  Open?\n",
      "0  8.955448  6.486161  6.156979      0\n",
      "1  8.909235  7.287561  6.148468      0\n",
      "2  9.314700  6.450470  6.156979      0\n",
      "3  8.517593  6.858565  6.236370      0\n",
      "4  8.061487  6.823286  6.154858      0\n"
     ]
    }
   ],
   "source": [
    "print x.head()"
   ]
  },
  {
   "cell_type": "code",
   "execution_count": 5,
   "metadata": {
    "collapsed": false
   },
   "outputs": [
    {
     "name": "stdout",
     "output_type": "stream",
     "text": [
      "       COE$_1     #Bids     Quota  Open?\n",
      "260  9.441849  7.660114  7.215240      1\n",
      "261  9.557894  7.591357  7.160069      1\n",
      "262  9.581973  7.596392  7.156956      1\n",
      "263  9.593492  7.443078  7.162397      1\n",
      "264  9.510371  7.529943  7.173192      1\n"
     ]
    }
   ],
   "source": [
    "print x.tail()"
   ]
  },
  {
   "cell_type": "markdown",
   "metadata": {},
   "source": [
    "## Scaling Attributes and Target"
   ]
  },
  {
   "cell_type": "code",
   "execution_count": 6,
   "metadata": {
    "collapsed": true
   },
   "outputs": [],
   "source": [
    "from sklearn import preprocessing\n",
    "scaler_x = preprocessing.MinMaxScaler(feature_range=(0,1))\n",
    "x = np.array(x).reshape((len(x), 4))\n",
    "x = scaler_x.fit_transform(x)"
   ]
  },
  {
   "cell_type": "code",
   "execution_count": 7,
   "metadata": {
    "collapsed": false
   },
   "outputs": [],
   "source": [
    "scaler_y = preprocessing.MinMaxScaler(feature_range=(0,1))\n",
    "y = np.array(y).reshape((len(y), 1))\n",
    "y = np.log(y)\n",
    "y = scaler_y.fit_transform(y)"
   ]
  },
  {
   "cell_type": "markdown",
   "metadata": {},
   "source": [
    "## The `pyneurgen` Module"
   ]
  },
  {
   "cell_type": "code",
   "execution_count": 8,
   "metadata": {
    "collapsed": false
   },
   "outputs": [
    {
     "name": "stdout",
     "output_type": "stream",
     "text": [
      "[[ 0.4303046 ]\n",
      " [ 0.51738973]\n",
      " [ 0.34618833]\n",
      " [ 0.24822658]\n",
      " [ 0.26390125]\n",
      " [ 0.19791561]\n",
      " [ 0.        ]\n",
      " [ 0.10641795]\n",
      " [ 0.38746915]\n",
      " [ 0.47263248]]\n",
      "[[ 0.44023012  0.0247413   0.09108105  0.        ]\n",
      " [ 0.4303046   0.44831527  0.08547959  0.        ]\n",
      " [ 0.51738973  0.00587742  0.09108105  0.        ]\n",
      " [ 0.34618833  0.22157281  0.14333339  0.        ]\n",
      " [ 0.24822658  0.2029264   0.08968515  0.        ]\n",
      " [ 0.26390125  0.08556034  0.08407175  0.        ]\n",
      " [ 0.19791561  0.0437329   0.08828628  0.        ]\n",
      " [ 0.          0.33684202  0.08547959  0.        ]\n",
      " [ 0.10641795  0.6062098   0.10214296  0.        ]\n",
      " [ 0.38746915  0.42048104  0.12504978  0.        ]]\n"
     ]
    }
   ],
   "source": [
    "print y[:10]\n",
    "print x[:10]\n",
    "y = y.tolist()\n",
    "x = x.tolist()"
   ]
  },
  {
   "cell_type": "markdown",
   "metadata": {
    "collapsed": true
   },
   "source": [
    "## How to Easily Specify a Model"
   ]
  },
  {
   "cell_type": "code",
   "execution_count": 9,
   "metadata": {
    "collapsed": true
   },
   "outputs": [],
   "source": [
    "from pyneurgen.neuralnet import NeuralNet\n",
    "import random\n",
    "\n",
    "random.seed(2016)\n",
    "fit1 = NeuralNet()\n",
    "fit1.init_layers(4, [7,3], 1)\n",
    "fit1.randomize_network()       # randomizes the weights and bias of each connection"
   ]
  },
  {
   "cell_type": "markdown",
   "metadata": {},
   "source": [
    "## Setting a Learning Rate"
   ]
  },
  {
   "cell_type": "code",
   "execution_count": 10,
   "metadata": {
    "collapsed": true
   },
   "outputs": [],
   "source": [
    "fit1.set_learnrate(0.05)\n",
    "fit1.set_all_inputs(x)\n",
    "fit1.set_all_targets(y)\n",
    "length = len(x)\n",
    "learn_end_point = int(length * 0.95)\n",
    "fit1.set_learn_range(0, learn_end_point)\n",
    "fit1.set_test_range(learn_end_point + 1, length - 1)"
   ]
  },
  {
   "cell_type": "markdown",
   "metadata": {},
   "source": [
    "## The Efficient Way to Run Your Model"
   ]
  },
  {
   "cell_type": "code",
   "execution_count": 11,
   "metadata": {
    "collapsed": false
   },
   "outputs": [],
   "source": [
    "fit1.layers[1].set_activation_type('tanh')  # could also use `linear` or `sigmoid`\n",
    "fit1.layers[2].set_activation_type('tanh')"
   ]
  },
  {
   "cell_type": "markdown",
   "metadata": {},
   "source": [
    "## Run the Model"
   ]
  },
  {
   "cell_type": "code",
   "execution_count": 12,
   "metadata": {
    "collapsed": false
   },
   "outputs": [
    {
     "name": "stdout",
     "output_type": "stream",
     "text": [
      "epoch: 0 MSE: 0.00375778849486\n",
      "epoch: 1 MSE: 0.00481815401934\n",
      "epoch: 2 MSE: 0.00419000621781\n",
      "epoch: 3 MSE: 0.00377844460056\n",
      "epoch: 4 MSE: 0.00349184307804\n",
      "epoch: 5 MSE: 0.00328394827976\n",
      "epoch: 6 MSE: 0.00312792310141\n",
      "epoch: 7 MSE: 0.00300711533336\n",
      "epoch: 8 MSE: 0.0029108045803\n",
      "epoch: 9 MSE: 0.00283189425012\n",
      "epoch: 10 MSE: 0.00276556386175\n",
      "epoch: 11 MSE: 0.00270845542856\n",
      "epoch: 12 MSE: 0.00265817124983\n",
      "epoch: 13 MSE: 0.00261295752144\n",
      "epoch: 14 MSE: 0.00257150087863\n",
      "epoch: 15 MSE: 0.00253279487716\n",
      "epoch: 16 MSE: 0.00249605066716\n",
      "epoch: 17 MSE: 0.00246063619296\n",
      "epoch: 18 MSE: 0.00242603422732\n",
      "epoch: 19 MSE: 0.00239181315017\n",
      "epoch: 20 MSE: 0.0023576065912\n",
      "epoch: 21 MSE: 0.00232309943533\n",
      "epoch: 22 MSE: 0.00228801856309\n",
      "epoch: 23 MSE: 0.00225212725313\n",
      "epoch: 24 MSE: 0.00221522251978\n",
      "epoch: 25 MSE: 0.00217713485781\n",
      "epoch: 26 MSE: 0.00213772995599\n",
      "epoch: 27 MSE: 0.00209691194297\n",
      "epoch: 28 MSE: 0.00205462766291\n",
      "epoch: 29 MSE: 0.00201087136695\n",
      "epoch: 30 MSE: 0.00196568908151\n",
      "epoch: 31 MSE: 0.00191918181884\n",
      "epoch: 32 MSE: 0.0018715067765\n",
      "epoch: 33 MSE: 0.00182287577442\n",
      "epoch: 34 MSE: 0.00177355042322\n",
      "epoch: 35 MSE: 0.00172383389315\n",
      "epoch: 36 MSE: 0.00167405960645\n",
      "epoch: 37 MSE: 0.00162457762359\n",
      "epoch: 38 MSE: 0.00157573984103\n",
      "epoch: 39 MSE: 0.00152788529244\n",
      "epoch: 40 MSE: 0.00148132681194\n",
      "epoch: 41 MSE: 0.00143634009608\n",
      "epoch: 42 MSE: 0.00139315584675\n",
      "epoch: 43 MSE: 0.00135195526967\n",
      "epoch: 44 MSE: 0.00131286881875\n",
      "epoch: 45 MSE: 0.00127597777371\n",
      "epoch: 46 MSE: 0.00124131804534\n",
      "epoch: 47 MSE: 0.00120888552447\n",
      "epoch: 48 MSE: 0.00117864230767\n",
      "epoch: 49 MSE: 0.00115052321824\n",
      "epoch: 50 MSE: 0.00112444216333\n",
      "epoch: 51 MSE: 0.00110029800161\n",
      "epoch: 52 MSE: 0.00107797972052\n",
      "epoch: 53 MSE: 0.00105737082731\n",
      "epoch: 54 MSE: 0.00103835293842\n",
      "epoch: 55 MSE: 0.00102080860743\n",
      "epoch: 56 MSE: 0.00100462346656\n",
      "epoch: 57 MSE: 0.000989687773898\n",
      "epoch: 58 MSE: 0.00097589746375\n",
      "epoch: 59 MSE: 0.000963154793967\n",
      "epoch: 60 MSE: 0.000951368675916\n",
      "epoch: 61 MSE: 0.000940454761783\n",
      "epoch: 62 MSE: 0.000930335352274\n",
      "epoch: 63 MSE: 0.000920939176488\n",
      "epoch: 64 MSE: 0.000912201085364\n",
      "epoch: 65 MSE: 0.000904061691098\n",
      "epoch: 66 MSE: 0.000896466977253\n",
      "epoch: 67 MSE: 0.000889367897993\n",
      "epoch: 68 MSE: 0.000882719979788\n",
      "epoch: 69 MSE: 0.000876482934912\n",
      "epoch: 70 MSE: 0.000870620292938\n",
      "epoch: 71 MSE: 0.000865099054081\n",
      "epoch: 72 MSE: 0.000859889366453\n",
      "epoch: 73 MSE: 0.000854964228001\n",
      "epoch: 74 MSE: 0.000850299213019\n",
      "epoch: 75 MSE: 0.000845872222446\n",
      "epoch: 76 MSE: 0.000841663256798\n",
      "epoch: 77 MSE: 0.000837654210316\n",
      "epoch: 78 MSE: 0.000833828684785\n",
      "epoch: 79 MSE: 0.000830171821449\n",
      "epoch: 80 MSE: 0.000826670149457\n",
      "epoch: 81 MSE: 0.000823311449333\n",
      "epoch: 82 MSE: 0.000820084630061\n",
      "epoch: 83 MSE: 0.000816979618441\n",
      "epoch: 84 MSE: 0.000813987259522\n",
      "epoch: 85 MSE: 0.000811099226975\n",
      "epoch: 86 MSE: 0.000808307942409\n",
      "epoch: 87 MSE: 0.000805606502716\n",
      "epoch: 88 MSE: 0.000802988614619\n",
      "epoch: 89 MSE: 0.000800448535683\n",
      "epoch: 90 MSE: 0.000797981021142\n",
      "epoch: 91 MSE: 0.000795581275939\n",
      "epoch: 92 MSE: 0.000793244911459\n",
      "epoch: 93 MSE: 0.000790967906485\n",
      "epoch: 94 MSE: 0.000788746571949\n",
      "epoch: 95 MSE: 0.000786577519114\n",
      "epoch: 96 MSE: 0.000784457630843\n",
      "epoch: 97 MSE: 0.000782384035659\n",
      "epoch: 98 MSE: 0.000780354084319\n",
      "epoch: 99 MSE: 0.000778365328674\n",
      "epoch: 100 MSE: 0.000776415502583\n",
      "epoch: 101 MSE: 0.000774502504693\n",
      "epoch: 102 MSE: 0.000772624382912\n",
      "epoch: 103 MSE: 0.00077077932041\n",
      "epoch: 104 MSE: 0.000768965622997\n",
      "epoch: 105 MSE: 0.000767181707774\n",
      "epoch: 106 MSE: 0.000765426092902\n",
      "epoch: 107 MSE: 0.000763697388417\n",
      "epoch: 108 MSE: 0.000761994287968\n",
      "epoch: 109 MSE: 0.000760315561401\n",
      "epoch: 110 MSE: 0.00075866004811\n",
      "epoch: 111 MSE: 0.000757026651074\n",
      "epoch: 112 MSE: 0.000755414331519\n",
      "epoch: 113 MSE: 0.000753822104142\n",
      "epoch: 114 MSE: 0.000752249032841\n",
      "epoch: 115 MSE: 0.000750694226899\n",
      "epoch: 116 MSE: 0.000749156837585\n",
      "epoch: 117 MSE: 0.000747636055111\n",
      "epoch: 118 MSE: 0.000746131105932\n",
      "epoch: 119 MSE: 0.000744641250326\n",
      "epoch: 120 MSE: 0.000743165780251\n",
      "epoch: 121 MSE: 0.000741704017426\n",
      "epoch: 122 MSE: 0.000740255311626\n",
      "epoch: 123 MSE: 0.000738819039157\n",
      "epoch: 124 MSE: 0.0007373946015\n",
      "epoch: 125 MSE: 0.000735981424093\n",
      "epoch: 126 MSE: 0.000734578955243\n",
      "epoch: 127 MSE: 0.00073318666515\n",
      "epoch: 128 MSE: 0.000731804045021\n",
      "epoch: 129 MSE: 0.000730430606282\n",
      "epoch: 130 MSE: 0.000729065879844\n",
      "epoch: 131 MSE: 0.000727709415452\n",
      "epoch: 132 MSE: 0.000726360781075\n",
      "epoch: 133 MSE: 0.000725019562343\n",
      "epoch: 134 MSE: 0.000723685362035\n",
      "epoch: 135 MSE: 0.000722357799583\n",
      "epoch: 136 MSE: 0.000721036510618\n",
      "epoch: 137 MSE: 0.000719721146536\n",
      "epoch: 138 MSE: 0.000718411374077\n",
      "epoch: 139 MSE: 0.000717106874928\n",
      "epoch: 140 MSE: 0.000715807345333\n",
      "epoch: 141 MSE: 0.000714512495721\n",
      "epoch: 142 MSE: 0.000713222050329\n",
      "epoch: 143 MSE: 0.000711935746849\n",
      "epoch: 144 MSE: 0.000710653336064\n",
      "epoch: 145 MSE: 0.000709374581499\n",
      "epoch: 146 MSE: 0.000708099259071\n",
      "epoch: 147 MSE: 0.000706827156739\n",
      "epoch: 148 MSE: 0.00070555807416\n",
      "epoch: 149 MSE: 0.000704291822346\n",
      "epoch: 150 MSE: 0.000703028223322\n",
      "epoch: 151 MSE: 0.000701767109782\n",
      "epoch: 152 MSE: 0.000700508324751\n",
      "epoch: 153 MSE: 0.00069925172125\n",
      "epoch: 154 MSE: 0.000697997161954\n",
      "epoch: 155 MSE: 0.000696744518861\n",
      "epoch: 156 MSE: 0.000695493672958\n",
      "epoch: 157 MSE: 0.000694244513893\n",
      "epoch: 158 MSE: 0.000692996939646\n",
      "epoch: 159 MSE: 0.000691750856207\n",
      "epoch: 160 MSE: 0.000690506177254\n",
      "epoch: 161 MSE: 0.000689262823839\n",
      "epoch: 162 MSE: 0.000688020724074\n",
      "epoch: 163 MSE: 0.000686779812825\n",
      "epoch: 164 MSE: 0.000685540031408\n",
      "epoch: 165 MSE: 0.000684301327295\n",
      "epoch: 166 MSE: 0.000683063653821\n",
      "epoch: 167 MSE: 0.000681826969896\n",
      "epoch: 168 MSE: 0.000680591239733\n",
      "epoch: 169 MSE: 0.000679356432567\n",
      "epoch: 170 MSE: 0.000678122522396\n",
      "epoch: 171 MSE: 0.000676889487717\n",
      "epoch: 172 MSE: 0.000675657311277\n",
      "epoch: 173 MSE: 0.000674425979829\n",
      "epoch: 174 MSE: 0.000673195483891\n",
      "epoch: 175 MSE: 0.000671965817519\n",
      "epoch: 176 MSE: 0.000670736978087\n",
      "epoch: 177 MSE: 0.000669508966068\n",
      "epoch: 178 MSE: 0.000668281784829\n",
      "epoch: 179 MSE: 0.000667055440434\n",
      "epoch: 180 MSE: 0.000665829941452\n",
      "epoch: 181 MSE: 0.00066460529877\n",
      "epoch: 182 MSE: 0.000663381525424\n",
      "epoch: 183 MSE: 0.000662158636424\n",
      "epoch: 184 MSE: 0.000660936648599\n",
      "epoch: 185 MSE: 0.000659715580439\n",
      "epoch: 186 MSE: 0.000658495451956\n",
      "epoch: 187 MSE: 0.000657276284538\n",
      "epoch: 188 MSE: 0.000656058100825\n",
      "epoch: 189 MSE: 0.000654840924579\n",
      "epoch: 190 MSE: 0.000653624780573\n",
      "epoch: 191 MSE: 0.000652409694474\n",
      "epoch: 192 MSE: 0.000651195692746\n",
      "epoch: 193 MSE: 0.000649982802546\n",
      "epoch: 194 MSE: 0.000648771051639\n",
      "epoch: 195 MSE: 0.000647560468308\n",
      "epoch: 196 MSE: 0.000646351081278\n",
      "epoch: 197 MSE: 0.00064514291964\n",
      "epoch: 198 MSE: 0.000643936012785\n",
      "epoch: 199 MSE: 0.000642730390342\n"
     ]
    }
   ],
   "source": [
    "fit1.learn(epochs=200, show_epoch_results=True, random_testing=False)"
   ]
  },
  {
   "cell_type": "markdown",
   "metadata": {},
   "source": [
    "## Assess Performance"
   ]
  },
  {
   "cell_type": "code",
   "execution_count": 13,
   "metadata": {
    "collapsed": false
   },
   "outputs": [
    {
     "name": "stdout",
     "output_type": "stream",
     "text": [
      "test set MSE =  0.000107\n"
     ]
    }
   ],
   "source": [
    "mse = fit1.test()\n",
    "print \"test set MSE = \", np.round(mse, 6)"
   ]
  },
  {
   "cell_type": "code",
   "execution_count": 14,
   "metadata": {
    "collapsed": false
   },
   "outputs": [
    {
     "data": {
      "text/plain": [
       "[[[0.5115646767544664], [0.5219029074507411]],\n",
       " [[0.5174090798989919], [0.5285262465782087]],\n",
       " [[0.5462942051781285], [0.5291355949957177]],\n",
       " [[0.5610954679045019], [0.5758134248107468]],\n",
       " [[0.5849053802741075], [0.5882727654419561]],\n",
       " [[0.5806239421115522], [0.5994991102328758]],\n",
       " [[0.5513256262849617], [0.5612970237574911]],\n",
       " [[0.5446984685711735], [0.548488808581793]],\n",
       " [[0.5696224247910611], [0.5462026588219878]],\n",
       " [[0.5747940838934837], [0.5629858397269402]],\n",
       " [[0.5772680753193098], [0.5683904025022325]],\n",
       " [[0.559415522274407], [0.5354134299497085]]]"
      ]
     },
     "execution_count": 14,
     "metadata": {},
     "output_type": "execute_result"
    }
   ],
   "source": [
    "fit1.test_targets_activations"
   ]
  }
 ],
 "metadata": {
  "kernelspec": {
   "display_name": "Python 2",
   "language": "python",
   "name": "python2"
  },
  "language_info": {
   "codemirror_mode": {
    "name": "ipython",
    "version": 2
   },
   "file_extension": ".py",
   "mimetype": "text/x-python",
   "name": "python",
   "nbconvert_exporter": "python",
   "pygments_lexer": "ipython2",
   "version": "2.7.13"
  }
 },
 "nbformat": 4,
 "nbformat_minor": 0
}
