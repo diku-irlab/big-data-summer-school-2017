{
 "cells": [
  {
   "cell_type": "markdown",
   "metadata": {
    "collapsed": true
   },
   "source": [
    "# CHAPTER 7 - Jordan Neural Networks\n",
    "\n",
    "_pg. 95-102_\n",
    "\n",
    "## The Fastest Path to Data Preparation"
   ]
  },
  {
   "cell_type": "code",
   "execution_count": 1,
   "metadata": {
    "collapsed": true
   },
   "outputs": [],
   "source": [
    "import numpy as np\n",
    "import pandas as pd\n",
    "\n",
    "loc = \"/home/ubuntu/CSU/Notebooks/big-data-summer-school-2017/COE.csv\"\n",
    "temp = pd.read_csv(loc)\n",
    "data = temp.drop(temp.columns [[0,1]], axis=1)\n",
    "\n",
    "y = data[\"COE$\"]\n",
    "\n",
    "x = data.drop(data.columns[[0,4]], axis=1)\n",
    "x = x.apply(np.log)\n",
    "x = pd.concat([x, data[\"Open?\"]], axis=1)"
   ]
  },
  {
   "cell_type": "code",
   "execution_count": 2,
   "metadata": {
    "collapsed": true
   },
   "outputs": [],
   "source": [
    "from sklearn import preprocessing\n",
    "\n",
    "scaler_x = preprocessing.MinMaxScaler(feature_range=(0,1))\n",
    "x = np.array(x).reshape((len(x), 4))\n",
    "x = scaler_x.fit_transform(x)\n",
    "\n",
    "scaler_y = preprocessing.MinMaxScaler(feature_range=(0,1))\n",
    "y = np.array(y).reshape((len(y), 1))\n",
    "y = np.log(y)\n",
    "y = scaler_y.fit_transform(y)"
   ]
  },
  {
   "cell_type": "code",
   "execution_count": 3,
   "metadata": {
    "collapsed": true
   },
   "outputs": [],
   "source": [
    "y = y.tolist()\n",
    "x = x.tolist()"
   ]
  },
  {
   "cell_type": "markdown",
   "metadata": {},
   "source": [
    "## A Straightforward Module for Jordan Neural Networks"
   ]
  },
  {
   "cell_type": "code",
   "execution_count": 4,
   "metadata": {
    "collapsed": true
   },
   "outputs": [],
   "source": [
    "from pyneurgen.neuralnet import NeuralNet\n",
    "from pyneurgen.recurrent import JordanRecurrent"
   ]
  },
  {
   "cell_type": "code",
   "execution_count": 5,
   "metadata": {},
   "outputs": [],
   "source": [
    "import random\n",
    "random.seed(2016)"
   ]
  },
  {
   "cell_type": "code",
   "execution_count": 6,
   "metadata": {},
   "outputs": [],
   "source": [
    "fit1 = NeuralNet()\n",
    "\n",
    "input_nodes = 4\n",
    "hidden_nodes = 7\n",
    "output_nodes = 1\n",
    "\n",
    "existing_weight_factor = 0.9 "
   ]
  },
  {
   "cell_type": "markdown",
   "metadata": {},
   "source": [
    "### QUESTION: What should we use the last variable for?\n",
    "### ANSWER:"
   ]
  },
  {
   "cell_type": "markdown",
   "metadata": {},
   "source": [
    "## Specifying the Model"
   ]
  },
  {
   "cell_type": "code",
   "execution_count": 7,
   "metadata": {
    "collapsed": true
   },
   "outputs": [],
   "source": [
    "fit1.init_layers(input_nodes, [hidden_nodes], output_nodes, JordanRecurrent(existing_weight_factor))\n",
    "fit1.randomize_network()\n",
    "fit1.layers[1].set_activation_type(\"sigmoid\")\n",
    "fit1.set_learnrate(0.05)\n",
    "fit1.set_all_inputs(x)\n",
    "fit1.set_all_targets(y)"
   ]
  },
  {
   "cell_type": "code",
   "execution_count": 8,
   "metadata": {
    "collapsed": true
   },
   "outputs": [],
   "source": [
    "length = len(x)\n",
    "learn_end_point = int(length * 0.95)\n",
    "fit1.set_learn_range(0, learn_end_point)\n",
    "fit1.set_test_range(learn_end_point + 1, length - 1)"
   ]
  },
  {
   "cell_type": "markdown",
   "metadata": {},
   "source": [
    "## Assessing Model Fit and Performance"
   ]
  },
  {
   "cell_type": "code",
   "execution_count": 9,
   "metadata": {},
   "outputs": [
    {
     "name": "stdout",
     "output_type": "stream",
     "text": [
      "epoch: 0 MSE: 0.00392271180035\n",
      "epoch: 1 MSE: 0.00148887861103\n",
      "epoch: 2 MSE: 0.00148825922623\n",
      "epoch: 3 MSE: 0.00148975092454\n",
      "epoch: 4 MSE: 0.00149294789624\n",
      "epoch: 5 MSE: 0.00149740333037\n",
      "epoch: 6 MSE: 0.0015026753066\n",
      "epoch: 7 MSE: 0.00150836654247\n",
      "epoch: 8 MSE: 0.00151414773884\n",
      "epoch: 9 MSE: 0.00151976387319\n",
      "epoch: 10 MSE: 0.00152502856997\n",
      "epoch: 11 MSE: 0.0015298127395\n",
      "epoch: 12 MSE: 0.00153403205432\n",
      "epoch: 13 MSE: 0.00153763569565\n",
      "epoch: 14 MSE: 0.00154059722793\n",
      "epoch: 15 MSE: 0.00154290760817\n",
      "epoch: 16 MSE: 0.00154456999769\n",
      "epoch: 17 MSE: 0.00154559597548\n",
      "epoch: 18 MSE: 0.00154600279708\n",
      "epoch: 19 MSE: 0.00154581141707\n",
      "epoch: 20 MSE: 0.00154504506458\n",
      "epoch: 21 MSE: 0.00154372821926\n",
      "epoch: 22 MSE: 0.00154188587782\n",
      "epoch: 23 MSE: 0.00153954303292\n",
      "epoch: 24 MSE: 0.00153672430843\n",
      "epoch: 25 MSE: 0.00153345371041\n",
      "epoch: 26 MSE: 0.00152975446477\n",
      "epoch: 27 MSE: 0.00152564891986\n",
      "epoch: 28 MSE: 0.00152115849808\n",
      "epoch: 29 MSE: 0.00151630368456\n",
      "epoch: 30 MSE: 0.00151110404352\n",
      "epoch: 31 MSE: 0.00150557825539\n",
      "epoch: 32 MSE: 0.00149974416894\n",
      "epoch: 33 MSE: 0.00149361886389\n",
      "epoch: 34 MSE: 0.00148721872032\n",
      "epoch: 35 MSE: 0.00148055949168\n",
      "epoch: 36 MSE: 0.00147365637879\n",
      "epoch: 37 MSE: 0.00146652410245\n",
      "epoch: 38 MSE: 0.00145917697264\n",
      "epoch: 39 MSE: 0.00145162895245\n",
      "epoch: 40 MSE: 0.00144389371521\n",
      "epoch: 41 MSE: 0.00143598469333\n",
      "epoch: 42 MSE: 0.00142791511774\n",
      "epoch: 43 MSE: 0.0014196980471\n",
      "epoch: 44 MSE: 0.00141134638592\n",
      "epoch: 45 MSE: 0.00140287289156\n",
      "epoch: 46 MSE: 0.00139429016994\n",
      "epoch: 47 MSE: 0.00138561066032\n",
      "epoch: 48 MSE: 0.00137684661016\n",
      "epoch: 49 MSE: 0.00136801004088\n",
      "epoch: 50 MSE: 0.00135911270622\n",
      "epoch: 51 MSE: 0.00135016604489\n",
      "epoch: 52 MSE: 0.00134118112944\n",
      "epoch: 53 MSE: 0.00133216861375\n",
      "epoch: 54 MSE: 0.00132313868094\n",
      "epoch: 55 MSE: 0.00131410099437\n",
      "epoch: 56 MSE: 0.00130506465326\n",
      "epoch: 57 MSE: 0.00129603815515\n",
      "epoch: 58 MSE: 0.00128702936634\n",
      "epoch: 59 MSE: 0.00127804550168\n",
      "epoch: 60 MSE: 0.00126909311418\n",
      "epoch: 61 MSE: 0.00126017809495\n",
      "epoch: 62 MSE: 0.00125130568317\n",
      "epoch: 63 MSE: 0.00124248048569\n",
      "epoch: 64 MSE: 0.00123370650542\n",
      "epoch: 65 MSE: 0.0012249871774\n",
      "epoch: 66 MSE: 0.00121632541135\n",
      "epoch: 67 MSE: 0.00120772363928\n",
      "epoch: 68 MSE: 0.00119918386667\n",
      "epoch: 69 MSE: 0.00119070772594\n",
      "epoch: 70 MSE: 0.00118229653062\n",
      "epoch: 71 MSE: 0.00117395132921\n",
      "epoch: 72 MSE: 0.00116567295744\n",
      "epoch: 73 MSE: 0.00115746208799\n",
      "epoch: 74 MSE: 0.001149319277\n",
      "epoch: 75 MSE: 0.00114124500646\n",
      "epoch: 76 MSE: 0.00113323972242\n",
      "epoch: 77 MSE: 0.00112530386828\n",
      "epoch: 78 MSE: 0.00111743791332\n",
      "epoch: 79 MSE: 0.00110964237628\n",
      "epoch: 80 MSE: 0.00110191784402\n",
      "epoch: 81 MSE: 0.00109426498557\n",
      "epoch: 82 MSE: 0.00108668456159\n",
      "epoch: 83 MSE: 0.00107917742979\n",
      "epoch: 84 MSE: 0.00107174454639\n",
      "epoch: 85 MSE: 0.00106438696415\n",
      "epoch: 86 MSE: 0.00105710582739\n",
      "epoch: 87 MSE: 0.00104990236428\n",
      "epoch: 88 MSE: 0.00104277787693\n",
      "epoch: 89 MSE: 0.00103573372963\n",
      "epoch: 90 MSE: 0.00102877133568\n",
      "epoch: 91 MSE: 0.00102189214318\n",
      "epoch: 92 MSE: 0.00101509762015\n",
      "epoch: 93 MSE: 0.00100838923932\n",
      "epoch: 94 MSE: 0.00100176846295\n",
      "epoch: 95 MSE: 0.000995236727866\n",
      "epoch: 96 MSE: 0.000988795431125\n",
      "epoch: 97 MSE: 0.000982445916358\n",
      "epoch: 98 MSE: 0.000976189461114\n",
      "epoch: 99 MSE: 0.000970027265294\n"
     ]
    }
   ],
   "source": [
    "fit1.learn(epochs=100, show_epoch_results=True, random_testing=False)"
   ]
  },
  {
   "cell_type": "code",
   "execution_count": 10,
   "metadata": {},
   "outputs": [
    {
     "name": "stdout",
     "output_type": "stream",
     "text": [
      "test set  MSE = 0.000084\n"
     ]
    }
   ],
   "source": [
    "mse = fit1.test()\n",
    "print \"test set  MSE = {:0.6f}\".format(mse)"
   ]
  },
  {
   "cell_type": "markdown",
   "metadata": {},
   "source": [
    "### QUESTION: Does this MSE make sense? What else could we do here?\n",
    "### ANSWER:"
   ]
  },
  {
   "cell_type": "markdown",
   "metadata": {},
   "source": [
    "## Visualizing the Results"
   ]
  },
  {
   "cell_type": "code",
   "execution_count": 11,
   "metadata": {
    "collapsed": true
   },
   "outputs": [],
   "source": [
    "pred = [item[1][0] for item in fit1.test_targets_activations]\n",
    "pred1 = scaler_y.inverse_transform(np.array(pred).reshape((len(pred), 1)))\n",
    "pred1 = np.exp(pred1)"
   ]
  },
  {
   "cell_type": "code",
   "execution_count": 12,
   "metadata": {},
   "outputs": [
    {
     "name": "stdout",
     "output_type": "stream",
     "text": [
      "[[ 11961.]\n",
      " [ 12224.]\n",
      " [ 12599.]\n",
      " [ 13840.]\n",
      " [ 14286.]\n",
      " [ 14933.]\n",
      " [ 14315.]\n",
      " [ 13366.]\n",
      " [ 13270.]\n",
      " [ 14097.]\n",
      " [ 14219.]\n",
      " [ 13979.]]\n"
     ]
    }
   ],
   "source": [
    "print np.rint(pred1)"
   ]
  },
  {
   "cell_type": "code",
   "execution_count": 13,
   "metadata": {},
   "outputs": [],
   "source": [
    "obs = [item[0][0] for item in fit1.test_targets_activations]\n",
    "obs = scaler_y.inverse_transform(np.array(obs).reshape((len(obs), 1)))\n",
    "obs = np.exp(obs)\n",
    "obs_max = obs + 1500\n",
    "obs_min = obs - 1500"
   ]
  },
  {
   "cell_type": "code",
   "execution_count": 14,
   "metadata": {
    "scrolled": false
   },
   "outputs": [
    {
     "data": {
      "image/png": "[encoded data removed]",
      "text/plain": [
       "<matplotlib.figure.Figure at 0x7f961069df90>"
      ]
     },
     "metadata": {},
     "output_type": "display_data"
    }
   ],
   "source": [
    "import matplotlib\n",
    "import matplotlib.pyplot as plt\n",
    "matplotlib.style.use('ggplot')\n",
    "\n",
    "%matplotlib inline\n",
    "plt.rcParams['figure.figsize'] = (8,6)\n",
    "\n",
    "plt.plot(range(len(obs)), obs, \"-\", label=\"Observed\", color=\"darkblue\", linewidth=\"1\")\n",
    "\n",
    "plt.plot(range(len(pred1)), pred1, \"-\", label=\"Predicted\", color=\"red\", linewidth=\"1\")\n",
    "\n",
    "plt.plot(range(len(obs)), obs_min, \"-\", label=\"Tolerance\", color=\"grey\", linewidth=\"0.5\")\n",
    "plt.plot(range(len(obs)), obs_max, \"-\", color=\"grey\", linewidth=\"0.5\")\n",
    "\n",
    "plt.title(\"Figure 7.3\")\n",
    "plt.xlabel(\"Prediction Period\")\n",
    "plt.ylabel(\"Singaporean dollars (SGD)\")\n",
    "plt.legend()\n",
    "plt.show()"
   ]
  }
 ],
 "metadata": {
  "kernelspec": {
   "display_name": "Python 2",
   "language": "python",
   "name": "python2"
  },
  "language_info": {
   "codemirror_mode": {
    "name": "ipython",
    "version": 2
   },
   "file_extension": ".py",
   "mimetype": "text/x-python",
   "name": "python",
   "nbconvert_exporter": "python",
   "pygments_lexer": "ipython2",
   "version": "2.7.12"
  }
 },
 "nbformat": 4,
 "nbformat_minor": 1
}
